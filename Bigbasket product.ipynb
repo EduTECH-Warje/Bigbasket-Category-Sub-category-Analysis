{
 "cells": [
  {
   "cell_type": "code",
   "execution_count": 155,
   "id": "640c75c3-c323-4e00-8efa-72f1edd6c7da",
   "metadata": {},
   "outputs": [],
   "source": [
    "import pandas as pd\n",
    "import numpy as np\n",
    "import seaborn as sns\n",
    "import matplotlib.pyplot as plt"
   ]
  },
  {
   "cell_type": "code",
   "execution_count": 411,
   "id": "b3e0f68c-242a-467e-9a08-186fb7380afa",
   "metadata": {},
   "outputs": [
    {
     "data": {
      "text/html": [
       "<div>\n",
       "<style scoped>\n",
       "    .dataframe tbody tr th:only-of-type {\n",
       "        vertical-align: middle;\n",
       "    }\n",
       "\n",
       "    .dataframe tbody tr th {\n",
       "        vertical-align: top;\n",
       "    }\n",
       "\n",
       "    .dataframe thead th {\n",
       "        text-align: right;\n",
       "    }\n",
       "</style>\n",
       "<table border=\"1\" class=\"dataframe\">\n",
       "  <thead>\n",
       "    <tr style=\"text-align: right;\">\n",
       "      <th></th>\n",
       "      <th>index</th>\n",
       "      <th>product</th>\n",
       "      <th>category</th>\n",
       "      <th>sub_category</th>\n",
       "      <th>brand</th>\n",
       "      <th>sale_price</th>\n",
       "      <th>market_price</th>\n",
       "      <th>type</th>\n",
       "      <th>rating</th>\n",
       "      <th>description</th>\n",
       "    </tr>\n",
       "  </thead>\n",
       "  <tbody>\n",
       "    <tr>\n",
       "      <th>0</th>\n",
       "      <td>1</td>\n",
       "      <td>Garlic Oil - Vegetarian Capsule 500 mg</td>\n",
       "      <td>Beauty &amp; Hygiene</td>\n",
       "      <td>Hair Care</td>\n",
       "      <td>Sri Sri Ayurveda</td>\n",
       "      <td>220.0</td>\n",
       "      <td>220.0</td>\n",
       "      <td>Hair Oil &amp; Serum</td>\n",
       "      <td>4.1</td>\n",
       "      <td>This Product contains Garlic Oil that is known...</td>\n",
       "    </tr>\n",
       "    <tr>\n",
       "      <th>1</th>\n",
       "      <td>2</td>\n",
       "      <td>Water Bottle - Orange</td>\n",
       "      <td>Kitchen, Garden &amp; Pets</td>\n",
       "      <td>Storage &amp; Accessories</td>\n",
       "      <td>Mastercook</td>\n",
       "      <td>180.0</td>\n",
       "      <td>180.0</td>\n",
       "      <td>Water &amp; Fridge Bottles</td>\n",
       "      <td>2.3</td>\n",
       "      <td>Each product is microwave safe (without lid), ...</td>\n",
       "    </tr>\n",
       "    <tr>\n",
       "      <th>2</th>\n",
       "      <td>3</td>\n",
       "      <td>Brass Angle Deep - Plain, No.2</td>\n",
       "      <td>Cleaning &amp; Household</td>\n",
       "      <td>Pooja Needs</td>\n",
       "      <td>Trm</td>\n",
       "      <td>119.0</td>\n",
       "      <td>250.0</td>\n",
       "      <td>Lamp &amp; Lamp Oil</td>\n",
       "      <td>3.4</td>\n",
       "      <td>A perfect gift for all occasions, be it your m...</td>\n",
       "    </tr>\n",
       "    <tr>\n",
       "      <th>3</th>\n",
       "      <td>4</td>\n",
       "      <td>Cereal Flip Lid Container/Storage Jar - Assort...</td>\n",
       "      <td>Cleaning &amp; Household</td>\n",
       "      <td>Bins &amp; Bathroom Ware</td>\n",
       "      <td>Nakoda</td>\n",
       "      <td>149.0</td>\n",
       "      <td>176.0</td>\n",
       "      <td>Laundry, Storage Baskets</td>\n",
       "      <td>3.7</td>\n",
       "      <td>Multipurpose container with an attractive desi...</td>\n",
       "    </tr>\n",
       "    <tr>\n",
       "      <th>4</th>\n",
       "      <td>5</td>\n",
       "      <td>Creme Soft Soap - For Hands &amp; Body</td>\n",
       "      <td>Beauty &amp; Hygiene</td>\n",
       "      <td>Bath &amp; Hand Wash</td>\n",
       "      <td>Nivea</td>\n",
       "      <td>162.0</td>\n",
       "      <td>162.0</td>\n",
       "      <td>Bathing Bars &amp; Soaps</td>\n",
       "      <td>4.4</td>\n",
       "      <td>Nivea Creme Soft Soap gives your skin the best...</td>\n",
       "    </tr>\n",
       "    <tr>\n",
       "      <th>5</th>\n",
       "      <td>6</td>\n",
       "      <td>Germ - Removal Multipurpose Wipes</td>\n",
       "      <td>Cleaning &amp; Household</td>\n",
       "      <td>All Purpose Cleaners</td>\n",
       "      <td>Nature Protect</td>\n",
       "      <td>169.0</td>\n",
       "      <td>199.0</td>\n",
       "      <td>Disinfectant Spray &amp; Cleaners</td>\n",
       "      <td>3.3</td>\n",
       "      <td>Stay protected from contamination with Multipu...</td>\n",
       "    </tr>\n",
       "    <tr>\n",
       "      <th>6</th>\n",
       "      <td>7</td>\n",
       "      <td>Multani Mati</td>\n",
       "      <td>Beauty &amp; Hygiene</td>\n",
       "      <td>Skin Care</td>\n",
       "      <td>Satinance</td>\n",
       "      <td>58.0</td>\n",
       "      <td>58.0</td>\n",
       "      <td>Face Care</td>\n",
       "      <td>3.6</td>\n",
       "      <td>Satinance multani matti is an excellent skin t...</td>\n",
       "    </tr>\n",
       "    <tr>\n",
       "      <th>7</th>\n",
       "      <td>8</td>\n",
       "      <td>Hand Sanitizer - 70% Alcohol Base</td>\n",
       "      <td>Beauty &amp; Hygiene</td>\n",
       "      <td>Bath &amp; Hand Wash</td>\n",
       "      <td>Bionova</td>\n",
       "      <td>250.0</td>\n",
       "      <td>250.0</td>\n",
       "      <td>Hand Wash &amp; Sanitizers</td>\n",
       "      <td>4.0</td>\n",
       "      <td>70%Alcohol based is gentle of hand leaves skin...</td>\n",
       "    </tr>\n",
       "    <tr>\n",
       "      <th>8</th>\n",
       "      <td>9</td>\n",
       "      <td>Biotin &amp; Collagen Volumizing Hair Shampoo + Bi...</td>\n",
       "      <td>Beauty &amp; Hygiene</td>\n",
       "      <td>Hair Care</td>\n",
       "      <td>StBotanica</td>\n",
       "      <td>1098.0</td>\n",
       "      <td>1098.0</td>\n",
       "      <td>Shampoo &amp; Conditioner</td>\n",
       "      <td>3.5</td>\n",
       "      <td>An exclusive blend with Vitamin B7 Biotin, Hyd...</td>\n",
       "    </tr>\n",
       "    <tr>\n",
       "      <th>9</th>\n",
       "      <td>10</td>\n",
       "      <td>Scrub Pad - Anti- Bacterial, Regular</td>\n",
       "      <td>Cleaning &amp; Household</td>\n",
       "      <td>Mops, Brushes &amp; Scrubs</td>\n",
       "      <td>Scotch brite</td>\n",
       "      <td>20.0</td>\n",
       "      <td>20.0</td>\n",
       "      <td>Utensil Scrub-Pad, Glove</td>\n",
       "      <td>4.3</td>\n",
       "      <td>Scotch Brite Anti- Bacterial Scrub Pad thoroug...</td>\n",
       "    </tr>\n",
       "  </tbody>\n",
       "</table>\n",
       "</div>"
      ],
      "text/plain": [
       "   index                                            product  \\\n",
       "0      1             Garlic Oil - Vegetarian Capsule 500 mg   \n",
       "1      2                              Water Bottle - Orange   \n",
       "2      3                     Brass Angle Deep - Plain, No.2   \n",
       "3      4  Cereal Flip Lid Container/Storage Jar - Assort...   \n",
       "4      5                 Creme Soft Soap - For Hands & Body   \n",
       "5      6                  Germ - Removal Multipurpose Wipes   \n",
       "6      7                                       Multani Mati   \n",
       "7      8                  Hand Sanitizer - 70% Alcohol Base   \n",
       "8      9  Biotin & Collagen Volumizing Hair Shampoo + Bi...   \n",
       "9     10               Scrub Pad - Anti- Bacterial, Regular   \n",
       "\n",
       "                 category            sub_category              brand  \\\n",
       "0        Beauty & Hygiene               Hair Care  Sri Sri Ayurveda    \n",
       "1  Kitchen, Garden & Pets   Storage & Accessories         Mastercook   \n",
       "2    Cleaning & Household             Pooja Needs                Trm   \n",
       "3    Cleaning & Household    Bins & Bathroom Ware             Nakoda   \n",
       "4        Beauty & Hygiene        Bath & Hand Wash              Nivea   \n",
       "5    Cleaning & Household    All Purpose Cleaners     Nature Protect   \n",
       "6        Beauty & Hygiene               Skin Care          Satinance   \n",
       "7        Beauty & Hygiene        Bath & Hand Wash            Bionova   \n",
       "8        Beauty & Hygiene               Hair Care         StBotanica   \n",
       "9    Cleaning & Household  Mops, Brushes & Scrubs       Scotch brite   \n",
       "\n",
       "   sale_price  market_price                           type  rating  \\\n",
       "0       220.0         220.0               Hair Oil & Serum     4.1   \n",
       "1       180.0         180.0         Water & Fridge Bottles     2.3   \n",
       "2       119.0         250.0                Lamp & Lamp Oil     3.4   \n",
       "3       149.0         176.0       Laundry, Storage Baskets     3.7   \n",
       "4       162.0         162.0           Bathing Bars & Soaps     4.4   \n",
       "5       169.0         199.0  Disinfectant Spray & Cleaners     3.3   \n",
       "6        58.0          58.0                      Face Care     3.6   \n",
       "7       250.0         250.0         Hand Wash & Sanitizers     4.0   \n",
       "8      1098.0        1098.0          Shampoo & Conditioner     3.5   \n",
       "9        20.0          20.0       Utensil Scrub-Pad, Glove     4.3   \n",
       "\n",
       "                                         description  \n",
       "0  This Product contains Garlic Oil that is known...  \n",
       "1  Each product is microwave safe (without lid), ...  \n",
       "2  A perfect gift for all occasions, be it your m...  \n",
       "3  Multipurpose container with an attractive desi...  \n",
       "4  Nivea Creme Soft Soap gives your skin the best...  \n",
       "5  Stay protected from contamination with Multipu...  \n",
       "6  Satinance multani matti is an excellent skin t...  \n",
       "7  70%Alcohol based is gentle of hand leaves skin...  \n",
       "8  An exclusive blend with Vitamin B7 Biotin, Hyd...  \n",
       "9  Scotch Brite Anti- Bacterial Scrub Pad thoroug...  "
      ]
     },
     "execution_count": 411,
     "metadata": {},
     "output_type": "execute_result"
    }
   ],
   "source": [
    "df = pd.read_csv(\"C:/Users/Dell/Downloads/BigBasket Products.csv\")\n",
    "df.head(10)"
   ]
  },
  {
   "cell_type": "code",
   "execution_count": 157,
   "id": "18899ded-6ba9-4461-815a-44ae9859d16f",
   "metadata": {},
   "outputs": [
    {
     "data": {
      "text/plain": [
       "2313"
      ]
     },
     "execution_count": 157,
     "metadata": {},
     "output_type": "execute_result"
    }
   ],
   "source": [
    "df['brand'].nunique()"
   ]
  },
  {
   "cell_type": "code",
   "execution_count": 158,
   "id": "9dc905b8-b2ed-4212-87dd-ad4c320e62d7",
   "metadata": {},
   "outputs": [
    {
     "data": {
      "text/plain": [
       "23540"
      ]
     },
     "execution_count": 158,
     "metadata": {},
     "output_type": "execute_result"
    }
   ],
   "source": [
    "df['product'].nunique()"
   ]
  },
  {
   "cell_type": "code",
   "execution_count": 159,
   "id": "011ce157-40da-4988-8c6c-65e4a7ff0f62",
   "metadata": {},
   "outputs": [
    {
     "data": {
      "text/plain": [
       "11"
      ]
     },
     "execution_count": 159,
     "metadata": {},
     "output_type": "execute_result"
    }
   ],
   "source": [
    "df['category'].nunique()"
   ]
  },
  {
   "cell_type": "code",
   "execution_count": 160,
   "id": "24619cf1-0bb6-4a92-9377-2b9127b4595c",
   "metadata": {},
   "outputs": [
    {
     "data": {
      "text/plain": [
       "90"
      ]
     },
     "execution_count": 160,
     "metadata": {},
     "output_type": "execute_result"
    }
   ],
   "source": [
    "df['sub_category'].nunique()"
   ]
  },
  {
   "cell_type": "code",
   "execution_count": 161,
   "id": "5d922be6-792a-4bf2-8daf-4b478b43c058",
   "metadata": {},
   "outputs": [],
   "source": [
    "b_h_data = df[df['category']=='Beauty & Hygiene']"
   ]
  },
  {
   "cell_type": "code",
   "execution_count": 162,
   "id": "f6322a0a-3efe-429d-91a6-7c235cdd9b4f",
   "metadata": {},
   "outputs": [
    {
     "data": {
      "text/plain": [
       "brand\n",
       "INATUR          146\n",
       "Nike            124\n",
       "BIOTIQUE        115\n",
       "Aroma Magic     109\n",
       "Himalaya        107\n",
       "Colgate         107\n",
       "Name: count, dtype: int64"
      ]
     },
     "execution_count": 162,
     "metadata": {},
     "output_type": "execute_result"
    }
   ],
   "source": [
    "b_h_data['brand'].value_counts()[0:6] "
   ]
  },
  {
   "cell_type": "code",
   "execution_count": 163,
   "id": "6b781ed0-ee63-422c-904e-baace384dafc",
   "metadata": {},
   "outputs": [
    {
     "data": {
      "text/html": [
       "<div>\n",
       "<style scoped>\n",
       "    .dataframe tbody tr th:only-of-type {\n",
       "        vertical-align: middle;\n",
       "    }\n",
       "\n",
       "    .dataframe tbody tr th {\n",
       "        vertical-align: top;\n",
       "    }\n",
       "\n",
       "    .dataframe thead th {\n",
       "        text-align: right;\n",
       "    }\n",
       "</style>\n",
       "<table border=\"1\" class=\"dataframe\">\n",
       "  <thead>\n",
       "    <tr style=\"text-align: right;\">\n",
       "      <th></th>\n",
       "      <th>product</th>\n",
       "      <th>category</th>\n",
       "      <th>sub_category</th>\n",
       "      <th>brand</th>\n",
       "      <th>sale_price</th>\n",
       "      <th>market_price</th>\n",
       "      <th>type</th>\n",
       "      <th>rating</th>\n",
       "      <th>description</th>\n",
       "    </tr>\n",
       "  </thead>\n",
       "  <tbody>\n",
       "    <tr>\n",
       "      <th>0</th>\n",
       "      <td>Garlic Oil - Vegetarian Capsule 500 mg</td>\n",
       "      <td>Beauty &amp; Hygiene</td>\n",
       "      <td>Hair Care</td>\n",
       "      <td>Sri Sri Ayurveda</td>\n",
       "      <td>220.0</td>\n",
       "      <td>220.0</td>\n",
       "      <td>Hair Oil &amp; Serum</td>\n",
       "      <td>4.1</td>\n",
       "      <td>This Product contains Garlic Oil that is known...</td>\n",
       "    </tr>\n",
       "  </tbody>\n",
       "</table>\n",
       "</div>"
      ],
      "text/plain": [
       "                                  product          category sub_category  \\\n",
       "0  Garlic Oil - Vegetarian Capsule 500 mg  Beauty & Hygiene    Hair Care   \n",
       "\n",
       "               brand  sale_price  market_price              type  rating  \\\n",
       "0  Sri Sri Ayurveda        220.0         220.0  Hair Oil & Serum     4.1   \n",
       "\n",
       "                                         description  \n",
       "0  This Product contains Garlic Oil that is known...  "
      ]
     },
     "execution_count": 163,
     "metadata": {},
     "output_type": "execute_result"
    }
   ],
   "source": [
    "df = df.drop(['index'], axis = 1)\n",
    "df.head(1)"
   ]
  },
  {
   "cell_type": "code",
   "execution_count": 164,
   "id": "5af931c9-2464-42dd-81ad-2d17126a5342",
   "metadata": {},
   "outputs": [
    {
     "data": {
      "text/plain": [
       "(27555, 9)"
      ]
     },
     "execution_count": 164,
     "metadata": {},
     "output_type": "execute_result"
    }
   ],
   "source": [
    "df.shape"
   ]
  },
  {
   "cell_type": "code",
   "execution_count": 165,
   "id": "1bc86a40-758c-4cda-a551-a3618ad00fbf",
   "metadata": {},
   "outputs": [
    {
     "data": {
      "text/plain": [
       "array([4.1, 2.3, 3.4, 3.7, 4.4, 3.3, 3.6, 4. , 3.5, 4.3, 2.2, 5. , 3.8,\n",
       "       4.2, 4.9, 3.9, 1.5, 2.9, 2.6, 3. , 4.5, nan, 1. , 4.6, 4.8, 3.1,\n",
       "       2. , 1.8, 2.8, 3.2, 4.7, 2.5, 2.4, 2.7, 2.1, 1.7, 1.9, 1.2, 1.3,\n",
       "       1.4, 1.6])"
      ]
     },
     "execution_count": 165,
     "metadata": {},
     "output_type": "execute_result"
    }
   ],
   "source": [
    "df['rating'].unique()"
   ]
  },
  {
   "cell_type": "code",
   "execution_count": 166,
   "id": "7c225942-8e6e-4c9b-9d33-67f6306fd5d3",
   "metadata": {},
   "outputs": [
    {
     "data": {
      "text/plain": [
       "<bound method NDFrame.sample of 0        4.1\n",
       "1        2.3\n",
       "2        3.4\n",
       "3        3.7\n",
       "4        4.4\n",
       "        ... \n",
       "27550    3.9\n",
       "27551    4.0\n",
       "27552    3.8\n",
       "27553    4.2\n",
       "27554    4.5\n",
       "Name: rating, Length: 27555, dtype: float64>"
      ]
     },
     "execution_count": 166,
     "metadata": {},
     "output_type": "execute_result"
    }
   ],
   "source": [
    "df['rating'].sample"
   ]
  },
  {
   "cell_type": "code",
   "execution_count": 167,
   "id": "72e4f89f-0b79-4c46-b5f2-abc829afd5be",
   "metadata": {},
   "outputs": [
    {
     "data": {
      "text/plain": [
       "array(['Garlic Oil - Vegetarian Capsule 500 mg', 'Water Bottle - Orange',\n",
       "       'Brass Angle Deep - Plain, No.2', ...,\n",
       "       'Wottagirl! Perfume Spray - Heaven, Classic',\n",
       "       'Peri-Peri Sweet Potato Chips', 'Green Tea - Pure Original'],\n",
       "      dtype=object)"
      ]
     },
     "execution_count": 167,
     "metadata": {},
     "output_type": "execute_result"
    }
   ],
   "source": [
    "df['product'].unique()"
   ]
  },
  {
   "cell_type": "code",
   "execution_count": 168,
   "id": "3476fd07-7c63-4105-8487-f9c5f5671f40",
   "metadata": {},
   "outputs": [
    {
     "data": {
      "text/plain": [
       "array([ 220.  ,  180.  ,  119.  , ...,  522.78, 4500.  , 1525.75])"
      ]
     },
     "execution_count": 168,
     "metadata": {},
     "output_type": "execute_result"
    }
   ],
   "source": [
    "df['sale_price'].unique()"
   ]
  },
  {
   "cell_type": "code",
   "execution_count": 169,
   "id": "bfcc0871-3d1d-4005-9988-0e0e7052fc72",
   "metadata": {},
   "outputs": [
    {
     "data": {
      "text/plain": [
       "<Axes: xlabel='sale_price', ylabel='Count'>"
      ]
     },
     "execution_count": 169,
     "metadata": {},
     "output_type": "execute_result"
    },
    {
     "data": {
      "image/png": "[encoded data removed]",
      "text/plain": [
       "<Figure size 640x480 with 1 Axes>"
      ]
     },
     "metadata": {},
     "output_type": "display_data"
    }
   ],
   "source": [
    "sns.histplot(df['sale_price'],bins=6)"
   ]
  },
  {
   "cell_type": "code",
   "execution_count": 170,
   "id": "3a1748ec-2cc5-44b4-8726-cc408354de4f",
   "metadata": {},
   "outputs": [
    {
     "data": {
      "text/plain": [
       "<Axes: xlabel='market_price', ylabel='Count'>"
      ]
     },
     "execution_count": 170,
     "metadata": {},
     "output_type": "execute_result"
    },
    {
     "data": {
      "image/png": "[encoded data removed]",
      "text/plain": [
       "<Figure size 640x480 with 1 Axes>"
      ]
     },
     "metadata": {},
     "output_type": "display_data"
    }
   ],
   "source": [
    "sns.histplot(df['market_price'],bins=6)"
   ]
  },
  {
   "cell_type": "code",
   "execution_count": 171,
   "id": "ae6caf55-fa69-4c02-b65c-d3d057e78e25",
   "metadata": {},
   "outputs": [
    {
     "data": {
      "text/plain": [
       "<Axes: xlabel='rating', ylabel='Count'>"
      ]
     },
     "execution_count": 171,
     "metadata": {},
     "output_type": "execute_result"
    },
    {
     "data": {
      "image/png": "[encoded data removed]",
      "text/plain": [
       "<Figure size 640x480 with 1 Axes>"
      ]
     },
     "metadata": {},
     "output_type": "display_data"
    }
   ],
   "source": [
    "sns.histplot(df['rating'],bins=6)"
   ]
  },
  {
   "cell_type": "code",
   "execution_count": 172,
   "id": "005f02ce-9727-4dce-8b27-f2064989b97f",
   "metadata": {},
   "outputs": [
    {
     "name": "stdout",
     "output_type": "stream",
     "text": [
      " nan: 8626\n"
     ]
    }
   ],
   "source": [
    "nan = df['rating'].isnull().sum()\n",
    "print(f\" nan: {nan}\")"
   ]
  },
  {
   "cell_type": "code",
   "execution_count": 173,
   "id": "2e6c5570-e4c1-4277-b380-0d132c905579",
   "metadata": {},
   "outputs": [],
   "source": [
    "df['rating']= df['rating'].replace(['nan'],'NR')"
   ]
  },
  {
   "cell_type": "code",
   "execution_count": 174,
   "id": "7005a0ce-2595-4c3e-9a0a-94baffe261db",
   "metadata": {},
   "outputs": [
    {
     "data": {
      "text/plain": [
       "rating\n",
       "4.2    2251\n",
       "4.3    2140\n",
       "4.0    2090\n",
       "4.1    1769\n",
       "5.0    1407\n",
       "4.4    1038\n",
       "3.9     932\n",
       "3.8     866\n",
       "4.5     798\n",
       "3.0     684\n",
       "3.7     672\n",
       "3.5     536\n",
       "3.6     447\n",
       "3.3     400\n",
       "1.0     387\n",
       "4.6     322\n",
       "3.4     303\n",
       "4.7     287\n",
       "2.0     237\n",
       "4.8     199\n",
       "3.2     181\n",
       "3.1     163\n",
       "2.5     132\n",
       "2.8     125\n",
       "2.7     116\n",
       "2.3      94\n",
       "2.9      79\n",
       "2.6      58\n",
       "4.9      53\n",
       "1.5      32\n",
       "2.4      29\n",
       "2.2      24\n",
       "1.8      22\n",
       "1.7      22\n",
       "2.1      10\n",
       "1.3       9\n",
       "1.4       6\n",
       "1.9       4\n",
       "1.6       3\n",
       "1.2       2\n",
       "Name: count, dtype: int64"
      ]
     },
     "execution_count": 174,
     "metadata": {},
     "output_type": "execute_result"
    }
   ],
   "source": [
    "df['rating'].value_counts()"
   ]
  },
  {
   "cell_type": "code",
   "execution_count": 175,
   "id": "2ad204a3-b309-42ca-bcc3-e1113b7eb668",
   "metadata": {},
   "outputs": [
    {
     "data": {
      "text/plain": [
       "array([4.1, 2.3, 3.4, 3.7, 4.4, 3.3, 3.6, 4. , 3.5, 4.3, 2.2, 5. , 3.8,\n",
       "       4.2, 4.9, 3.9, 1.5, 2.9, 2.6, 3. , 4.5, nan, 1. , 4.6, 4.8, 3.1,\n",
       "       2. , 1.8, 2.8, 3.2, 4.7, 2.5, 2.4, 2.7, 2.1, 1.7, 1.9, 1.2, 1.3,\n",
       "       1.4, 1.6])"
      ]
     },
     "execution_count": 175,
     "metadata": {},
     "output_type": "execute_result"
    }
   ],
   "source": [
    "df['rating'].unique()"
   ]
  },
  {
   "cell_type": "code",
   "execution_count": 176,
   "id": "46ea343d-5d33-466b-a077-adefdd512262",
   "metadata": {},
   "outputs": [
    {
     "data": {
      "text/plain": [
       "5.0"
      ]
     },
     "execution_count": 176,
     "metadata": {},
     "output_type": "execute_result"
    }
   ],
   "source": [
    "df['rating'].max()"
   ]
  },
  {
   "cell_type": "code",
   "execution_count": 177,
   "id": "383798a2-850c-4843-b215-711523a4e6ef",
   "metadata": {},
   "outputs": [
    {
     "data": {
      "text/plain": [
       "1.0"
      ]
     },
     "execution_count": 177,
     "metadata": {},
     "output_type": "execute_result"
    }
   ],
   "source": [
    "df['rating'].min()"
   ]
  },
  {
   "cell_type": "code",
   "execution_count": 178,
   "id": "2620d52d-afb3-4961-860e-5a4f30e3948e",
   "metadata": {},
   "outputs": [
    {
     "data": {
      "text/plain": [
       "array(['Beauty & Hygiene', 'Kitchen, Garden & Pets',\n",
       "       'Cleaning & Household', 'Gourmet & World Food',\n",
       "       'Foodgrains, Oil & Masala', 'Snacks & Branded Foods', 'Beverages',\n",
       "       'Bakery, Cakes & Dairy', 'Baby Care', 'Fruits & Vegetables',\n",
       "       'Eggs, Meat & Fish'], dtype=object)"
      ]
     },
     "execution_count": 178,
     "metadata": {},
     "output_type": "execute_result"
    }
   ],
   "source": [
    "df['category'].unique()"
   ]
  },
  {
   "cell_type": "code",
   "execution_count": 179,
   "id": "d67a9d1f-c341-49d4-9926-a01ecda09906",
   "metadata": {},
   "outputs": [],
   "source": [
    "\n",
    "\n",
    "# PRODUCT\n",
    "\n"
   ]
  },
  {
   "cell_type": "code",
   "execution_count": 180,
   "id": "40b0a4aa-1d5e-4582-b9c9-41f671e8ec4a",
   "metadata": {},
   "outputs": [
    {
     "name": "stdout",
     "output_type": "stream",
     "text": [
      "12128                                   pasta shell\n",
      "1297      oriental-Instant Noodles - Tomato Flavour\n",
      "7434     oriental Instant Noodles - Tom Yam Flavour\n",
      "24247     oriental Instant Noodles - Masala Flavour\n",
      "19284      oriental Instant Noodles - Curry Flavour\n",
      "Name: product, dtype: object\n"
     ]
    }
   ],
   "source": [
    "top_5_products = df.sort_values(by='product', ascending=False).head(5)\n",
    "print(top_5_products['product'])"
   ]
  },
  {
   "cell_type": "code",
   "execution_count": 181,
   "id": "451d8f5d-c328-4c79-b815-70a9b0680210",
   "metadata": {},
   "outputs": [
    {
     "name": "stdout",
     "output_type": "stream",
     "text": [
      "Total products: 27554\n",
      "Unique products: 23540\n",
      "Most frequent product: Turmeric Powder/Arisina Pudi (Appears 26 times)\n",
      "Missing product names: 1\n"
     ]
    }
   ],
   "source": [
    "num_products = df['product'].count() \n",
    "num_unique_products = df['product'].nunique() \n",
    "most_frequent_product = df['product'].value_counts().idxmax()  \n",
    "freq_count = df['product'].value_counts().max() \n",
    "missing_values = df['product'].isnull().sum() \n",
    "\n",
    "print(f\"Total products: {num_products}\")\n",
    "print(f\"Unique products: {num_unique_products}\")\n",
    "print(f\"Most frequent product: {most_frequent_product} (Appears {freq_count} times)\")\n",
    "print(f\"Missing product names: {missing_values}\")\n"
   ]
  },
  {
   "cell_type": "code",
   "execution_count": null,
   "id": "f4103327-fa8f-45e0-8cf5-a444ac024e81",
   "metadata": {},
   "outputs": [],
   "source": [
    "\n",
    "#CATEGORY\n",
    "\n"
   ]
  },
  {
   "cell_type": "code",
   "execution_count": 241,
   "id": "580c45ae-257c-4608-927a-067eff052b17",
   "metadata": {},
   "outputs": [
    {
     "data": {
      "text/plain": [
       "array(['Beauty & Hygiene', 'Kitchen, Garden & Pets',\n",
       "       'Cleaning & Household', 'Gourmet & World Food',\n",
       "       'Foodgrains, Oil & Masala', 'Snacks & Branded Foods', 'Beverages',\n",
       "       'Bakery, Cakes & Dairy', 'Baby Care', 'Fruits & Vegetables',\n",
       "       'Eggs, Meat & Fish'], dtype=object)"
      ]
     },
     "execution_count": 241,
     "metadata": {},
     "output_type": "execute_result"
    }
   ],
   "source": [
    "df['category'].unique()"
   ]
  },
  {
   "cell_type": "code",
   "execution_count": 513,
   "id": "a6c41284-e5f0-4a30-b463-2dea3f17a80b",
   "metadata": {},
   "outputs": [
    {
     "name": "stdout",
     "output_type": "stream",
     "text": [
      "Total unique categories: 11\n",
      "Missing category values: 0\n",
      "Most frequent category: Beauty & Hygiene (7867 occurrences)\n",
      "Least frequent category: Eggs, Meat & Fish (350 occurrences)\n"
     ]
    }
   ],
   "source": [
    "\n",
    "total_categories = df['category'].nunique()\n",
    "\n",
    "category_counts = df['category'].value_counts()\n",
    "\n",
    "most_frequent_category = category_counts.idxmax()\n",
    "least_frequent_category = category_counts.idxmin()\n",
    "\n",
    "missing_categories = df['category'].isnull().sum()\n",
    "print(f\"Total unique categories: {total_categories}\")\n",
    "print(f\"Missing category values: {missing_categories}\")\n",
    "print(f\"Most frequent category: {most_frequent_category} ({category_counts.max()} occurrences)\")\n",
    "print(f\"Least frequent category: {least_frequent_category} ({category_counts.min()} occurrences)\")\n"
   ]
  },
  {
   "cell_type": "code",
   "execution_count": 245,
   "id": "34f2657e-9f9b-438a-8745-43abc99e581e",
   "metadata": {},
   "outputs": [
    {
     "name": "stderr",
     "output_type": "stream",
     "text": [
      "C:\\Users\\Dell\\AppData\\Local\\Temp\\ipykernel_7664\\1584617355.py:2: FutureWarning: \n",
      "\n",
      "Passing `palette` without assigning `hue` is deprecated and will be removed in v0.14.0. Assign the `x` variable to `hue` and set `legend=False` for the same effect.\n",
      "\n",
      "  sns.barplot(x=category_counts.index, y=category_counts.values, palette=\"coolwarm\")\n"
     ]
    },
    {
     "data": {
      "image/png": "[encoded data removed]",
      "text/plain": [
       "<Figure size 1000x600 with 1 Axes>"
      ]
     },
     "metadata": {},
     "output_type": "display_data"
    }
   ],
   "source": [
    "plt.figure(figsize=(10, 6))\n",
    "sns.barplot(x=category_counts.index, y=category_counts.values, palette=\"coolwarm\")\n",
    "plt.xticks(rotation=90)\n",
    "plt.title('Product Distribution Across Categories')\n",
    "plt.xlabel('Category')\n",
    "plt.ylabel('Count of Products')\n",
    "plt.tight_layout()\n",
    "plt.show()"
   ]
  },
  {
   "cell_type": "code",
   "execution_count": 247,
   "id": "0a203728-5915-480e-b45e-587f8e9ceb0b",
   "metadata": {},
   "outputs": [
    {
     "name": "stdout",
     "output_type": "stream",
     "text": [
      "Total unique sub_categories: 90\n",
      "Most frequent sub_category: Skin Care (2294 occurrences)\n",
      "Least frequent sub_category: Marinades (1 occurrences)\n"
     ]
    }
   ],
   "source": [
    "total_sub_categories = df['sub_category'].nunique()\n",
    "sub_category_counts = df['sub_category'].value_counts()\n",
    "most_frequent_sub_category = sub_category_counts.idxmax()\n",
    "least_frequent_sub_category = sub_category_counts.idxmin()\n",
    "\n",
    "print(f\"Total unique sub_categories: {total_sub_categories}\")\n",
    "print(f\"Most frequent sub_category: {most_frequent_sub_category} ({sub_category_counts.max()} occurrences)\")\n",
    "print(f\"Least frequent sub_category: {least_frequent_sub_category} ({sub_category_counts.min()} occurrences)\")\n"
   ]
  },
  {
   "cell_type": "code",
   "execution_count": 249,
   "id": "a16b1d83-07bb-4099-8631-bebdfa85bc74",
   "metadata": {},
   "outputs": [
    {
     "data": {
      "text/html": [
       "<div>\n",
       "<style scoped>\n",
       "    .dataframe tbody tr th:only-of-type {\n",
       "        vertical-align: middle;\n",
       "    }\n",
       "\n",
       "    .dataframe tbody tr th {\n",
       "        vertical-align: top;\n",
       "    }\n",
       "\n",
       "    .dataframe thead th {\n",
       "        text-align: right;\n",
       "    }\n",
       "</style>\n",
       "<table border=\"1\" class=\"dataframe\">\n",
       "  <thead>\n",
       "    <tr style=\"text-align: right;\">\n",
       "      <th></th>\n",
       "      <th>product</th>\n",
       "      <th>category</th>\n",
       "      <th>sub_category</th>\n",
       "      <th>brand</th>\n",
       "      <th>sale_price</th>\n",
       "      <th>market_price</th>\n",
       "      <th>type</th>\n",
       "      <th>rating</th>\n",
       "      <th>description</th>\n",
       "    </tr>\n",
       "  </thead>\n",
       "  <tbody>\n",
       "    <tr>\n",
       "      <th>0</th>\n",
       "      <td>Garlic Oil - Vegetarian Capsule 500 mg</td>\n",
       "      <td>Beauty &amp; Hygiene</td>\n",
       "      <td>Hair Care</td>\n",
       "      <td>Sri Sri Ayurveda</td>\n",
       "      <td>220.0</td>\n",
       "      <td>220.0</td>\n",
       "      <td>Hair Oil &amp; Serum</td>\n",
       "      <td>4.1</td>\n",
       "      <td>This Product contains Garlic Oil that is known...</td>\n",
       "    </tr>\n",
       "  </tbody>\n",
       "</table>\n",
       "</div>"
      ],
      "text/plain": [
       "                                  product          category sub_category  \\\n",
       "0  Garlic Oil - Vegetarian Capsule 500 mg  Beauty & Hygiene    Hair Care   \n",
       "\n",
       "               brand  sale_price  market_price              type  rating  \\\n",
       "0  Sri Sri Ayurveda        220.0         220.0  Hair Oil & Serum     4.1   \n",
       "\n",
       "                                         description  \n",
       "0  This Product contains Garlic Oil that is known...  "
      ]
     },
     "execution_count": 249,
     "metadata": {},
     "output_type": "execute_result"
    }
   ],
   "source": [
    "df.head(1)"
   ]
  },
  {
   "cell_type": "code",
   "execution_count": 251,
   "id": "3efee9db-33ee-45c8-a52e-c6bf98369a59",
   "metadata": {},
   "outputs": [
    {
     "data": {
      "text/plain": [
       "2.45"
      ]
     },
     "execution_count": 251,
     "metadata": {},
     "output_type": "execute_result"
    }
   ],
   "source": [
    "df['sale_price'].min()"
   ]
  },
  {
   "cell_type": "code",
   "execution_count": 253,
   "id": "39a7bf9b-ea05-414e-898c-8d0fa1dc75e4",
   "metadata": {},
   "outputs": [
    {
     "data": {
      "text/plain": [
       "12500.0"
      ]
     },
     "execution_count": 253,
     "metadata": {},
     "output_type": "execute_result"
    }
   ],
   "source": [
    "df['sale_price'].max()"
   ]
  },
  {
   "cell_type": "code",
   "execution_count": 255,
   "id": "9f1c5770-91df-4105-a5a5-8ad22d6b6445",
   "metadata": {
    "scrolled": true
   },
   "outputs": [
    {
     "data": {
      "text/plain": [
       "<Axes: ylabel='count'>"
      ]
     },
     "execution_count": 255,
     "metadata": {},
     "output_type": "execute_result"
    },
    {
     "data": {
      "image/png": "[encoded data removed]",
      "text/plain": [
       "<Figure size 640x480 with 1 Axes>"
      ]
     },
     "metadata": {},
     "output_type": "display_data"
    }
   ],
   "source": [
    "df['brand'].value_counts()[0:3:].plot(kind='pie',autopct=\"%0.1f\")"
   ]
  },
  {
   "cell_type": "code",
   "execution_count": 257,
   "id": "e73f381f-5a70-4fc3-ade7-ee5306256a2a",
   "metadata": {},
   "outputs": [
    {
     "name": "stdout",
     "output_type": "stream",
     "text": [
      "Top 3 Brands:\n",
      "brand\n",
      "Fresho      638\n",
      "bb Royal    539\n",
      "BB Home     428\n",
      "Name: count, dtype: int64\n",
      "\n",
      "Bottom 3 Brands:\n",
      "brand\n",
      "Lal               1\n",
      "Glint             1\n",
      "Baron De Bercy    1\n",
      "Name: count, dtype: int64\n"
     ]
    }
   ],
   "source": [
    "# Count the occurrences of each brand in the 'brand' column\n",
    "brand_counts = df['brand'].value_counts()\n",
    "\n",
    "# Find the top 3 brands by count\n",
    "top_3_brands = brand_counts.head(3)\n",
    "\n",
    "# Find the bottom 3 brands by count\n",
    "bottom_3_brands = brand_counts.tail(3)\n",
    "\n",
    "# Display the results\n",
    "print(\"Top 3 Brands:\")\n",
    "print(top_3_brands)\n",
    "\n",
    "print(\"\\nBottom 3 Brands:\")\n",
    "print(bottom_3_brands)\n"
   ]
  },
  {
   "cell_type": "code",
   "execution_count": 259,
   "id": "cb8509db-8a3e-40da-8de0-6a7353286e4e",
   "metadata": {},
   "outputs": [
    {
     "data": {
      "text/plain": [
       "brand\n",
       "Fresho              638\n",
       "bb Royal            539\n",
       "BB Home             428\n",
       "DP                  250\n",
       "Fresho Signature    171\n",
       "                   ... \n",
       "Wellastrate           1\n",
       "Clean & Fresh         1\n",
       "Lal                   1\n",
       "Glint                 1\n",
       "Baron De Bercy        1\n",
       "Name: count, Length: 2313, dtype: int64"
      ]
     },
     "execution_count": 259,
     "metadata": {},
     "output_type": "execute_result"
    }
   ],
   "source": [
    "df['brand'].value_counts()"
   ]
  },
  {
   "cell_type": "code",
   "execution_count": 261,
   "id": "5c076ade-c429-4f1a-8235-7882dbf4f87f",
   "metadata": {},
   "outputs": [
    {
     "name": "stdout",
     "output_type": "stream",
     "text": [
      "Top 3 Selling Brands by Total Sales:\n",
      "brand\n",
      "Prestige    138190.00\n",
      "Dkny        114360.00\n",
      "bb Royal    114056.03\n",
      "Name: sale_price, dtype: float64\n",
      "\n",
      "Bottom 3 Selling Brands by Total Sales:\n",
      "brand\n",
      "Dream Bake    10.0\n",
      "Narasus       10.0\n",
      "Livon          3.0\n",
      "Name: sale_price, dtype: float64\n"
     ]
    }
   ],
   "source": [
    "\n",
    "df['sale_price']\n",
    "\n",
    "\n",
    "brand_sales = df.groupby('brand')['sale_price'].sum().sort_values(ascending=False)\n",
    "\n",
    "top_3_selling_brands = brand_sales.head(3)\n",
    "\n",
    "bottom_3_selling_brands = brand_sales.tail(3)\n",
    "\n",
    "print(\"Top 3 Selling Brands by Total Sales:\")\n",
    "print(top_3_selling_brands)\n",
    "\n",
    "print(\"\\nBottom 3 Selling Brands by Total Sales:\")\n",
    "print(bottom_3_selling_brands)\n"
   ]
  },
  {
   "cell_type": "code",
   "execution_count": 265,
   "id": "6623ba8a-520c-4f95-8844-7d309af3a182",
   "metadata": {},
   "outputs": [
    {
     "name": "stdout",
     "output_type": "stream",
     "text": [
      "\n",
      "Top 3 Sub-categories for Brand 'Fresho':\n",
      "sub_category\n",
      "Fresh Vegetables    8478\n",
      "Fresh Fruits        5881\n",
      "Cuts & Sprouts      4624\n",
      "Name: quantity_sold, dtype: int32\n",
      "\n",
      "Top 3 Sub-categories for Brand 'bb Royal':\n",
      "sub_category\n",
      "Organic Staples         8493\n",
      "Masalas & Spices        4962\n",
      "Rice & Rice Products    4111\n",
      "Name: quantity_sold, dtype: int32\n",
      "\n",
      "Top 3 Sub-categories for Brand 'BB Home':\n",
      "sub_category\n",
      "Storage & Accessories    6590\n",
      "Steel Utensils           4529\n",
      "Bath & Hand Wash         2400\n",
      "Name: quantity_sold, dtype: int32\n"
     ]
    }
   ],
   "source": [
    "\n",
    "df['quantity_sold'] = np.random.randint(1, 100, size=len(df))\n",
    "\n",
    "brand_sales = df.groupby('brand')['quantity_sold'].sum().sort_values(ascending=False)\n",
    "\n",
    "top_3_brands = brand_sales.head(3)\n",
    "\n",
    "for brand in top_3_brands.index:\n",
    "    brand_data = df[df['brand'] == brand]\n",
    "    sub_category_sales = brand_data.groupby('sub_category')['quantity_sold'].sum().sort_values(ascending=False)\n",
    "    \n",
    " \n",
    "    top_3_sub_categories = sub_category_sales.head(3)\n",
    "    \n",
    "    print(f\"\\nTop 3 Sub-categories for Brand '{brand}':\")\n",
    "    print(top_3_sub_categories)\n"
   ]
  },
  {
   "cell_type": "code",
   "execution_count": 267,
   "id": "32bdf9ac-8d6f-49ae-a307-a3c675c42561",
   "metadata": {},
   "outputs": [
    {
     "name": "stdout",
     "output_type": "stream",
     "text": [
      "Top 3 Selling Brands by Total Sales:\n",
      "brand\n",
      "bb Royal    1125.1\n",
      "BB Home      710.5\n",
      "Amul         618.4\n",
      "Name: rating, dtype: float64\n",
      "\n",
      "Bottom 3 Selling Brands by Total Sales:\n",
      "brand\n",
      "Snack Amor    0.0\n",
      "PINQ          0.0\n",
      "SriRudra      0.0\n",
      "Name: rating, dtype: float64\n"
     ]
    }
   ],
   "source": [
    "\n",
    "df['rating']\n",
    "\n",
    "brand_sales = df.groupby('brand')['rating'].sum().sort_values(ascending=False)\n",
    "top_3_selling_brands = brand_sales.head(3)\n",
    "\n",
    "bottom_3_selling_brands = brand_sales.tail(3)\n",
    "\n",
    "print(\"Top 3 Selling Brands by Total Sales:\")\n",
    "print(top_3_selling_brands)\n",
    "\n",
    "print(\"\\nBottom 3 Selling Brands by Total Sales:\")\n",
    "print(bottom_3_selling_brands)\n"
   ]
  },
  {
   "cell_type": "code",
   "execution_count": 269,
   "id": "cf0b66a5-5e28-43e9-9120-5b7a75db01bf",
   "metadata": {},
   "outputs": [
    {
     "data": {
      "text/html": [
       "<div>\n",
       "<style scoped>\n",
       "    .dataframe tbody tr th:only-of-type {\n",
       "        vertical-align: middle;\n",
       "    }\n",
       "\n",
       "    .dataframe tbody tr th {\n",
       "        vertical-align: top;\n",
       "    }\n",
       "\n",
       "    .dataframe thead th {\n",
       "        text-align: right;\n",
       "    }\n",
       "</style>\n",
       "<table border=\"1\" class=\"dataframe\">\n",
       "  <thead>\n",
       "    <tr style=\"text-align: right;\">\n",
       "      <th></th>\n",
       "      <th>product</th>\n",
       "      <th>category</th>\n",
       "      <th>sub_category</th>\n",
       "      <th>brand</th>\n",
       "      <th>sale_price</th>\n",
       "      <th>market_price</th>\n",
       "      <th>type</th>\n",
       "      <th>rating</th>\n",
       "      <th>description</th>\n",
       "      <th>quantity_sold</th>\n",
       "    </tr>\n",
       "  </thead>\n",
       "  <tbody>\n",
       "    <tr>\n",
       "      <th>0</th>\n",
       "      <td>Garlic Oil - Vegetarian Capsule 500 mg</td>\n",
       "      <td>Beauty &amp; Hygiene</td>\n",
       "      <td>Hair Care</td>\n",
       "      <td>Sri Sri Ayurveda</td>\n",
       "      <td>220.0</td>\n",
       "      <td>220.0</td>\n",
       "      <td>Hair Oil &amp; Serum</td>\n",
       "      <td>4.1</td>\n",
       "      <td>This Product contains Garlic Oil that is known...</td>\n",
       "      <td>70</td>\n",
       "    </tr>\n",
       "  </tbody>\n",
       "</table>\n",
       "</div>"
      ],
      "text/plain": [
       "                                  product          category sub_category  \\\n",
       "0  Garlic Oil - Vegetarian Capsule 500 mg  Beauty & Hygiene    Hair Care   \n",
       "\n",
       "               brand  sale_price  market_price              type  rating  \\\n",
       "0  Sri Sri Ayurveda        220.0         220.0  Hair Oil & Serum     4.1   \n",
       "\n",
       "                                         description  quantity_sold  \n",
       "0  This Product contains Garlic Oil that is known...             70  "
      ]
     },
     "execution_count": 269,
     "metadata": {},
     "output_type": "execute_result"
    }
   ],
   "source": [
    "df.head(1)"
   ]
  },
  {
   "cell_type": "code",
   "execution_count": 271,
   "id": "3cdef03e-7d22-4f4d-ad0a-9c37d7d495ab",
   "metadata": {},
   "outputs": [
    {
     "data": {
      "text/plain": [
       "<Axes: ylabel='sale_price'>"
      ]
     },
     "execution_count": 271,
     "metadata": {},
     "output_type": "execute_result"
    },
    {
     "data": {
      "image/png": "[encoded data removed]",
      "text/plain": [
       "<Figure size 640x480 with 1 Axes>"
      ]
     },
     "metadata": {},
     "output_type": "display_data"
    }
   ],
   "source": [
    "sns.boxplot(df['sale_price'])"
   ]
  },
  {
   "cell_type": "code",
   "execution_count": 273,
   "id": "317ae840-2b56-4cbf-8464-0ba07e50a3cc",
   "metadata": {},
   "outputs": [
    {
     "data": {
      "text/plain": [
       "190.0"
      ]
     },
     "execution_count": 273,
     "metadata": {},
     "output_type": "execute_result"
    }
   ],
   "source": [
    "df['sale_price'].median()"
   ]
  },
  {
   "cell_type": "code",
   "execution_count": 479,
   "id": "629633a7-685f-400f-84af-c5e403b0da69",
   "metadata": {},
   "outputs": [
    {
     "name": "stdout",
     "output_type": "stream",
     "text": [
      "                  brand  sale_price\n",
      "692             Farmina     10090.0\n",
      "367   Carolina Herrera       6660.0\n",
      "668             FITWHEY      5900.0\n",
      "1556       Paco Rabanne      5800.0\n",
      "647        Estee Lauder      5550.0\n"
     ]
    }
   ],
   "source": [
    "\n",
    "# Compute the median sale price for each brand\n",
    "brand_avg_price = df.groupby('brand')['sale_price'].median().reset_index()\n",
    "\n",
    "# Identify the top 5 most expensive brands\n",
    "costly_5_brands = brand_avg_price.nlargest(5, 'sale_price')\n",
    "\n",
    "# Display the result\n",
    "print(costly_5_brands)\n"
   ]
  },
  {
   "cell_type": "code",
   "execution_count": 481,
   "id": "2da1c5bd-e45e-4440-afac-c3ded8309711",
   "metadata": {},
   "outputs": [
    {
     "data": {
      "text/html": [
       "<div>\n",
       "<style scoped>\n",
       "    .dataframe tbody tr th:only-of-type {\n",
       "        vertical-align: middle;\n",
       "    }\n",
       "\n",
       "    .dataframe tbody tr th {\n",
       "        vertical-align: top;\n",
       "    }\n",
       "\n",
       "    .dataframe thead th {\n",
       "        text-align: right;\n",
       "    }\n",
       "</style>\n",
       "<table border=\"1\" class=\"dataframe\">\n",
       "  <thead>\n",
       "    <tr style=\"text-align: right;\">\n",
       "      <th></th>\n",
       "      <th>brand</th>\n",
       "      <th>sale_price</th>\n",
       "    </tr>\n",
       "  </thead>\n",
       "  <tbody>\n",
       "    <tr>\n",
       "      <th>692</th>\n",
       "      <td>Farmina</td>\n",
       "      <td>10090.0</td>\n",
       "    </tr>\n",
       "    <tr>\n",
       "      <th>367</th>\n",
       "      <td>Carolina Herrera</td>\n",
       "      <td>6660.0</td>\n",
       "    </tr>\n",
       "    <tr>\n",
       "      <th>668</th>\n",
       "      <td>FITWHEY</td>\n",
       "      <td>5900.0</td>\n",
       "    </tr>\n",
       "    <tr>\n",
       "      <th>1556</th>\n",
       "      <td>Paco Rabanne</td>\n",
       "      <td>5800.0</td>\n",
       "    </tr>\n",
       "    <tr>\n",
       "      <th>647</th>\n",
       "      <td>Estee Lauder</td>\n",
       "      <td>5550.0</td>\n",
       "    </tr>\n",
       "  </tbody>\n",
       "</table>\n",
       "</div>"
      ],
      "text/plain": [
       "                  brand  sale_price\n",
       "692             Farmina     10090.0\n",
       "367   Carolina Herrera       6660.0\n",
       "668             FITWHEY      5900.0\n",
       "1556       Paco Rabanne      5800.0\n",
       "647        Estee Lauder      5550.0"
      ]
     },
     "execution_count": 481,
     "metadata": {},
     "output_type": "execute_result"
    }
   ],
   "source": [
    "brand_avg_price = df.groupby('brand')['sale_price'].median().reset_index()\n",
    "costly_5_brands =brand_avg_price.nlargest(5, 'sale_price')\n",
    "costly_5_brands"
   ]
  },
  {
   "cell_type": "code",
   "execution_count": 487,
   "id": "7c011e90-3fa2-4fe6-a2a4-85ada0d5ac57",
   "metadata": {},
   "outputs": [
    {
     "data": {
      "text/html": [
       "<div>\n",
       "<style scoped>\n",
       "    .dataframe tbody tr th:only-of-type {\n",
       "        vertical-align: middle;\n",
       "    }\n",
       "\n",
       "    .dataframe tbody tr th {\n",
       "        vertical-align: top;\n",
       "    }\n",
       "\n",
       "    .dataframe thead th {\n",
       "        text-align: right;\n",
       "    }\n",
       "</style>\n",
       "<table border=\"1\" class=\"dataframe\">\n",
       "  <thead>\n",
       "    <tr style=\"text-align: right;\">\n",
       "      <th></th>\n",
       "      <th>brand</th>\n",
       "      <th>sale_price</th>\n",
       "    </tr>\n",
       "  </thead>\n",
       "  <tbody>\n",
       "    <tr>\n",
       "      <th>1177</th>\n",
       "      <td>Livon</td>\n",
       "      <td>3.0</td>\n",
       "    </tr>\n",
       "    <tr>\n",
       "      <th>67</th>\n",
       "      <td>Ala Fresh</td>\n",
       "      <td>10.0</td>\n",
       "    </tr>\n",
       "    <tr>\n",
       "      <th>379</th>\n",
       "      <td>Center Fruit</td>\n",
       "      <td>10.0</td>\n",
       "    </tr>\n",
       "    <tr>\n",
       "      <th>393</th>\n",
       "      <td>Cheetos</td>\n",
       "      <td>10.0</td>\n",
       "    </tr>\n",
       "    <tr>\n",
       "      <th>594</th>\n",
       "      <td>Dream Bake</td>\n",
       "      <td>10.0</td>\n",
       "    </tr>\n",
       "  </tbody>\n",
       "</table>\n",
       "</div>"
      ],
      "text/plain": [
       "             brand  sale_price\n",
       "1177         Livon         3.0\n",
       "67       Ala Fresh        10.0\n",
       "379   Center Fruit        10.0\n",
       "393        Cheetos        10.0\n",
       "594     Dream Bake        10.0"
      ]
     },
     "execution_count": 487,
     "metadata": {},
     "output_type": "execute_result"
    }
   ],
   "source": [
    "brand_avg_price = df.groupby('brand')['sale_price'].median().reset_index()\n",
    "cheape_5_brands = brand_avg_price.nsmallest(5, 'sale_price')\n",
    "cheape_5_brands"
   ]
  },
  {
   "cell_type": "code",
   "execution_count": 281,
   "id": "de3cd5d1-c08c-406c-b34e-e68320b06da2",
   "metadata": {},
   "outputs": [
    {
     "data": {
      "text/plain": [
       "count    27555.000000\n",
       "mean       322.514808\n",
       "std        486.263116\n",
       "min          2.450000\n",
       "25%         95.000000\n",
       "50%        190.000000\n",
       "75%        359.000000\n",
       "max      12500.000000\n",
       "Name: sale_price, dtype: float64"
      ]
     },
     "execution_count": 281,
     "metadata": {},
     "output_type": "execute_result"
    }
   ],
   "source": [
    "df['sale_price'].describe()"
   ]
  },
  {
   "cell_type": "code",
   "execution_count": 283,
   "id": "83beeed7-234d-4b8d-9599-c2cae5674a77",
   "metadata": {},
   "outputs": [
    {
     "data": {
      "text/plain": [
       "(6855, 10)"
      ]
     },
     "execution_count": 283,
     "metadata": {},
     "output_type": "execute_result"
    }
   ],
   "source": [
    "costly = df[df['sale_price']>359].shape\n",
    "costly"
   ]
  },
  {
   "cell_type": "code",
   "execution_count": 285,
   "id": "1843f03c-2d0e-419b-a704-cc9922ed2d06",
   "metadata": {},
   "outputs": [
    {
     "data": {
      "text/plain": [
       "(6807, 10)"
      ]
     },
     "execution_count": 285,
     "metadata": {},
     "output_type": "execute_result"
    }
   ],
   "source": [
    "cheape = df[df['sale_price']<95].shape\n",
    "cheape"
   ]
  },
  {
   "cell_type": "code",
   "execution_count": 287,
   "id": "cccfb219-833c-4e6b-bddd-e8f78a4141e5",
   "metadata": {},
   "outputs": [
    {
     "data": {
      "text/html": [
       "<div>\n",
       "<style scoped>\n",
       "    .dataframe tbody tr th:only-of-type {\n",
       "        vertical-align: middle;\n",
       "    }\n",
       "\n",
       "    .dataframe tbody tr th {\n",
       "        vertical-align: top;\n",
       "    }\n",
       "\n",
       "    .dataframe thead th {\n",
       "        text-align: right;\n",
       "    }\n",
       "</style>\n",
       "<table border=\"1\" class=\"dataframe\">\n",
       "  <thead>\n",
       "    <tr style=\"text-align: right;\">\n",
       "      <th></th>\n",
       "      <th>sale_price</th>\n",
       "      <th>Price_Category</th>\n",
       "    </tr>\n",
       "  </thead>\n",
       "  <tbody>\n",
       "    <tr>\n",
       "      <th>0</th>\n",
       "      <td>220.0</td>\n",
       "      <td>Median</td>\n",
       "    </tr>\n",
       "    <tr>\n",
       "      <th>1</th>\n",
       "      <td>180.0</td>\n",
       "      <td>Median</td>\n",
       "    </tr>\n",
       "    <tr>\n",
       "      <th>2</th>\n",
       "      <td>119.0</td>\n",
       "      <td>Median</td>\n",
       "    </tr>\n",
       "    <tr>\n",
       "      <th>3</th>\n",
       "      <td>149.0</td>\n",
       "      <td>Median</td>\n",
       "    </tr>\n",
       "    <tr>\n",
       "      <th>4</th>\n",
       "      <td>162.0</td>\n",
       "      <td>Median</td>\n",
       "    </tr>\n",
       "  </tbody>\n",
       "</table>\n",
       "</div>"
      ],
      "text/plain": [
       "   sale_price Price_Category\n",
       "0       220.0         Median\n",
       "1       180.0         Median\n",
       "2       119.0         Median\n",
       "3       149.0         Median\n",
       "4       162.0         Median"
      ]
     },
     "execution_count": 287,
     "metadata": {},
     "output_type": "execute_result"
    }
   ],
   "source": [
    "\n",
    "Q1 = df['sale_price'].quantile(0.25)  \n",
    "Q2 = df['sale_price'].quantile(0.50) \n",
    "Q3 = df['sale_price'].quantile(0.75) \n",
    "\n",
    "\n",
    "def categorize_price(price):\n",
    "    if price <= Q1:\n",
    "        return 'Cheap'\n",
    "    elif Q1 < price <= Q3:\n",
    "        return 'Median'\n",
    "    else:\n",
    "        return 'Costly'\n",
    "\n",
    "df['Price_Category'] = df['sale_price'].apply(categorize_price)\n",
    "\n",
    "df[['sale_price', 'Price_Category']].head()\n"
   ]
  },
  {
   "cell_type": "code",
   "execution_count": 289,
   "id": "4e8e67bc-ff87-497a-acac-29f5da5099a8",
   "metadata": {},
   "outputs": [
    {
     "data": {
      "image/png": "[encoded data removed]",
      "text/plain": [
       "<Figure size 640x480 with 1 Axes>"
      ]
     },
     "metadata": {},
     "output_type": "display_data"
    }
   ],
   "source": [
    "\n",
    "df['Price_Category'].value_counts().plot(kind='bar', color=['green', 'orange', 'red'])\n",
    "plt.title('Price Category Distribution')\n",
    "plt.xlabel('Price Category')\n",
    "plt.ylabel('Count of Products')\n",
    "plt.show()\n"
   ]
  },
  {
   "cell_type": "code",
   "execution_count": 291,
   "id": "5925927a-84fb-41f4-908e-f4cebf0c00a0",
   "metadata": {},
   "outputs": [
    {
     "data": {
      "text/plain": [
       "Price_Category\n",
       "Median    13729\n",
       "Cheap      6971\n",
       "Costly     6855\n",
       "Name: count, dtype: int64"
      ]
     },
     "execution_count": 291,
     "metadata": {},
     "output_type": "execute_result"
    }
   ],
   "source": [
    "\n",
    "Q1 = 95    \n",
    "Q2 = 190   \n",
    "Q3 = 359   \n",
    "\n",
    "def categorize_price(price):\n",
    "    if price <= Q1:\n",
    "        return 'Cheap'\n",
    "    elif Q1 < price <= Q3:\n",
    "        return 'Median'\n",
    "    else:\n",
    "        return 'Costly'\n",
    "\n",
    "df['Price_Category'] = df['sale_price'].apply(categorize_price)\n",
    "\n",
    "\n",
    "df['Price_Category'].value_counts()\n"
   ]
  },
  {
   "cell_type": "code",
   "execution_count": 293,
   "id": "9912e8e0-0440-483c-b362-9418571f41a8",
   "metadata": {},
   "outputs": [
    {
     "data": {
      "text/html": [
       "<div>\n",
       "<style scoped>\n",
       "    .dataframe tbody tr th:only-of-type {\n",
       "        vertical-align: middle;\n",
       "    }\n",
       "\n",
       "    .dataframe tbody tr th {\n",
       "        vertical-align: top;\n",
       "    }\n",
       "\n",
       "    .dataframe thead th {\n",
       "        text-align: right;\n",
       "    }\n",
       "</style>\n",
       "<table border=\"1\" class=\"dataframe\">\n",
       "  <thead>\n",
       "    <tr style=\"text-align: right;\">\n",
       "      <th></th>\n",
       "      <th>brand</th>\n",
       "      <th>sale_price</th>\n",
       "      <th>Brand_Category</th>\n",
       "    </tr>\n",
       "  </thead>\n",
       "  <tbody>\n",
       "    <tr>\n",
       "      <th>0</th>\n",
       "      <td>&amp;Me</td>\n",
       "      <td>248.333333</td>\n",
       "      <td>Medium</td>\n",
       "    </tr>\n",
       "    <tr>\n",
       "      <th>1</th>\n",
       "      <td>&amp;Stirred</td>\n",
       "      <td>157.000000</td>\n",
       "      <td>Medium</td>\n",
       "    </tr>\n",
       "    <tr>\n",
       "      <th>2</th>\n",
       "      <td>109°F</td>\n",
       "      <td>99.000000</td>\n",
       "      <td>Medium</td>\n",
       "    </tr>\n",
       "    <tr>\n",
       "      <th>3</th>\n",
       "      <td>137 Degree</td>\n",
       "      <td>445.000000</td>\n",
       "      <td>Costly</td>\n",
       "    </tr>\n",
       "    <tr>\n",
       "      <th>4</th>\n",
       "      <td>18 Herbs</td>\n",
       "      <td>263.333333</td>\n",
       "      <td>Medium</td>\n",
       "    </tr>\n",
       "  </tbody>\n",
       "</table>\n",
       "</div>"
      ],
      "text/plain": [
       "        brand  sale_price Brand_Category\n",
       "0         &Me  248.333333         Medium\n",
       "1    &Stirred  157.000000         Medium\n",
       "2       109°F   99.000000         Medium\n",
       "3  137 Degree  445.000000         Costly\n",
       "4    18 Herbs  263.333333         Medium"
      ]
     },
     "execution_count": 293,
     "metadata": {},
     "output_type": "execute_result"
    }
   ],
   "source": [
    "\n",
    "Q1 = df['sale_price'].quantile(0.25) \n",
    "Q2 = df['sale_price'].quantile(0.50)  \n",
    "Q3 = df['sale_price'].quantile(0.75) \n",
    "\n",
    "\n",
    "brand_avg_price = df.groupby('brand')['sale_price'].mean().reset_index()\n",
    "\n",
    "def categorize_brand(price):\n",
    "    if price <= Q1:\n",
    "        return 'Cheap'\n",
    "    elif Q1 < price <= Q3:\n",
    "        return 'Medium'\n",
    "    else:\n",
    "        return 'Costly'\n",
    "\n",
    "\n",
    "brand_avg_price['Brand_Category'] = brand_avg_price['sale_price'].apply(categorize_brand)\n",
    "\n",
    "\n",
    "brand_avg_price[['brand', 'sale_price', 'Brand_Category']].head(5)  \n"
   ]
  },
  {
   "cell_type": "code",
   "execution_count": 295,
   "id": "87d2705b-14d2-4d61-a210-8a94d42c99c3",
   "metadata": {},
   "outputs": [
    {
     "data": {
      "text/plain": [
       "brand\n",
       "Fresho              638\n",
       "bb Royal            539\n",
       "BB Home             428\n",
       "DP                  250\n",
       "Fresho Signature    171\n",
       "                   ... \n",
       "Wellastrate           1\n",
       "Clean & Fresh         1\n",
       "Lal                   1\n",
       "Glint                 1\n",
       "Baron De Bercy        1\n",
       "Name: count, Length: 2313, dtype: int64"
      ]
     },
     "execution_count": 295,
     "metadata": {},
     "output_type": "execute_result"
    }
   ],
   "source": [
    " df['brand'].value_counts()"
   ]
  },
  {
   "cell_type": "code",
   "execution_count": 297,
   "id": "9622cc8f-fe1e-4b22-ac13-989e9f9955c6",
   "metadata": {},
   "outputs": [
    {
     "data": {
      "text/plain": [
       "brand\n",
       "Lal               1\n",
       "Glint             1\n",
       "Baron De Bercy    1\n",
       "Name: count, dtype: int64"
      ]
     },
     "execution_count": 297,
     "metadata": {},
     "output_type": "execute_result"
    }
   ],
   "source": [
    "df['brand'].value_counts()[-3::]"
   ]
  },
  {
   "cell_type": "code",
   "execution_count": 301,
   "id": "a6def144-767f-4385-9aa8-31553d9d572a",
   "metadata": {},
   "outputs": [
    {
     "name": "stdout",
     "output_type": "stream",
     "text": [
      "Top 3 Categories:\n",
      "                  category  sale_price Category_Type\n",
      "0               Baby Care  534.946180           Top\n",
      "9  Kitchen, Garden & Pets  507.524615           Top\n",
      "2        Beauty & Hygiene  418.679197           Top\n",
      "\n",
      "Top 3 Medium Categories:\n",
      "                category  sale_price Category_Type\n",
      "8  Gourmet & World Food  319.854011        Medium\n",
      "5     Eggs, Meat & Fish  288.897486        Medium\n",
      "3             Beverages  239.758949        Medium\n",
      "\n",
      "Top 3 Cheap Categories:\n",
      "                   category  sale_price Category_Type\n",
      "7      Fruits & Vegetables   50.889336         Cheap\n",
      "10  Snacks & Branded Foods  129.593134         Cheap\n",
      "1    Bakery, Cakes & Dairy  142.802750         Cheap\n"
     ]
    }
   ],
   "source": [
    "\n",
    "category_avg_price = df.groupby('category')['sale_price'].mean().reset_index()\n",
    "\n",
    "\n",
    "Q1 = category_avg_price['sale_price'].quantile(0.25) \n",
    "Q3 = category_avg_price['sale_price'].quantile(0.75) \n",
    "\n",
    "def categorize_category(price):\n",
    "    if price <= Q1:\n",
    "        return 'Cheap'\n",
    "    elif Q1 < price <= Q3:\n",
    "        return 'Medium'\n",
    "    else:\n",
    "        return 'Top'\n",
    "\n",
    "\n",
    "category_avg_price['Category_Type'] = category_avg_price['sale_price'].apply(categorize_category)\n",
    "\n",
    "top_categories = category_avg_price[category_avg_price['Category_Type'] == 'Top'].nlargest(3, 'sale_price')\n",
    "medium_categories = category_avg_price[category_avg_price['Category_Type'] == 'Medium'].nlargest(3, 'sale_price')\n",
    "cheap_categories = category_avg_price[category_avg_price['Category_Type'] == 'Cheap'].nsmallest(3, 'sale_price')\n",
    "\n",
    "\n",
    "print(\"Top 3 Categories:\\n\", top_categories)\n",
    "print(\"\\nTop 3 Medium Categories:\\n\", medium_categories)\n",
    "print(\"\\nTop 3 Cheap Categories:\\n\", cheap_categories)\n"
   ]
  },
  {
   "cell_type": "code",
   "execution_count": 303,
   "id": "d360fea3-5302-40be-97ff-9130029ea21c",
   "metadata": {},
   "outputs": [
    {
     "data": {
      "text/plain": [
       "1.0"
      ]
     },
     "execution_count": 303,
     "metadata": {},
     "output_type": "execute_result"
    }
   ],
   "source": [
    "df['rating'].min()"
   ]
  },
  {
   "cell_type": "code",
   "execution_count": 305,
   "id": "a19344ea-4aa4-4013-801d-728a3ee156cf",
   "metadata": {},
   "outputs": [
    {
     "data": {
      "text/plain": [
       "5.0"
      ]
     },
     "execution_count": 305,
     "metadata": {},
     "output_type": "execute_result"
    }
   ],
   "source": [
    "df['rating'].max()"
   ]
  },
  {
   "cell_type": "code",
   "execution_count": 307,
   "id": "e2966e72-3187-4789-9645-5431a8ce1717",
   "metadata": {},
   "outputs": [
    {
     "data": {
      "text/plain": [
       "4.1"
      ]
     },
     "execution_count": 307,
     "metadata": {},
     "output_type": "execute_result"
    }
   ],
   "source": [
    "df['rating'].median()"
   ]
  },
  {
   "cell_type": "code",
   "execution_count": 309,
   "id": "559353f1-d850-46e3-b48f-fae016b86436",
   "metadata": {},
   "outputs": [],
   "source": [
    "high_rated_pro = df[df['rating']>4.1]"
   ]
  },
  {
   "cell_type": "code",
   "execution_count": 311,
   "id": "335b085e-181d-4948-8176-04216445bb85",
   "metadata": {},
   "outputs": [
    {
     "data": {
      "text/plain": [
       "category\n",
       "Beauty & Hygiene            2678\n",
       "Gourmet & World Food        1173\n",
       "Snacks & Branded Foods      1101\n",
       "Foodgrains, Oil & Masala     958\n",
       "Name: count, dtype: int64"
      ]
     },
     "execution_count": 311,
     "metadata": {},
     "output_type": "execute_result"
    }
   ],
   "source": [
    "high_rated_pro['category'].value_counts()[0:4]"
   ]
  },
  {
   "cell_type": "code",
   "execution_count": 313,
   "id": "9f366b47-8724-4b64-ac88-a6e08d4c3a94",
   "metadata": {},
   "outputs": [
    {
     "name": "stdout",
     "output_type": "stream",
     "text": [
      "Top 5 Brands with Highest Ratings:\n",
      "       brand  rating\n",
      "5       1mg     5.0\n",
      "28    AMADO     5.0\n",
      "47   Adidas     5.0\n",
      "105  Amulya     5.0\n",
      "112  Anmara     5.0\n",
      "\n",
      "Top 5 Brands with Lowest Ratings:\n",
      "           brand  rating\n",
      "420  Ciplaplast     1.0\n",
      "432       Cleox     1.0\n",
      "554     Diamond     1.0\n",
      "604     EL PASO     1.0\n",
      "653    Everteen     1.0\n"
     ]
    }
   ],
   "source": [
    "\n",
    "brand_avg_rating = df.groupby('brand')['rating'].median().reset_index()\n",
    "\n",
    "top_5_brands_high = brand_avg_rating.nlargest(5, 'rating')\n",
    "\n",
    "top_5_brands_low = brand_avg_rating.nsmallest(5, 'rating')\n",
    "\n",
    "print(\"Top 5 Brands with Highest Ratings:\\n\", top_5_brands_high)\n",
    "print(\"\\nTop 5 Brands with Lowest Ratings:\\n\", top_5_brands_low)\n"
   ]
  },
  {
   "cell_type": "code",
   "execution_count": 315,
   "id": "f43939ae-5849-44ba-ab3a-d2b7ed2302dd",
   "metadata": {},
   "outputs": [
    {
     "data": {
      "text/plain": [
       "<Axes: ylabel='rating'>"
      ]
     },
     "execution_count": 315,
     "metadata": {},
     "output_type": "execute_result"
    },
    {
     "data": {
      "image/png": "[encoded data removed]",
      "text/plain": [
       "<Figure size 640x480 with 1 Axes>"
      ]
     },
     "metadata": {},
     "output_type": "display_data"
    }
   ],
   "source": [
    "sns.boxplot(df['rating'])"
   ]
  },
  {
   "cell_type": "code",
   "execution_count": 317,
   "id": "3114fdb9-8402-4755-8913-0b25576e6067",
   "metadata": {},
   "outputs": [
    {
     "name": "stdout",
     "output_type": "stream",
     "text": [
      "Top 5 Categories with Highest Ratings:\n",
      "                    category  rating\n",
      "0                 Baby Care     4.2\n",
      "3                 Beverages     4.2\n",
      "2          Beauty & Hygiene     4.1\n",
      "4      Cleaning & Household     4.1\n",
      "6  Foodgrains, Oil & Masala     4.1\n",
      "\n",
      "bottem 5 Categories with Lowest Ratings:\n",
      "                    category  rating\n",
      "9    Kitchen, Garden & Pets     3.9\n",
      "1     Bakery, Cakes & Dairy     4.0\n",
      "2          Beauty & Hygiene     4.1\n",
      "4      Cleaning & Household     4.1\n",
      "6  Foodgrains, Oil & Masala     4.1\n"
     ]
    }
   ],
   "source": [
    "\n",
    "category_avg_rating = df.groupby('category')['rating'].median().reset_index()\n",
    "top_5_categories_high = category_avg_rating.nlargest(5, 'rating')\n",
    "bottem_5_categories_low = category_avg_rating.nsmallest(5, 'rating')\n",
    "\n",
    "print(\"Top 5 Categories with Highest Ratings:\\n\", top_5_categories_high)\n",
    "print(\"\\nbottem 5 Categories with Lowest Ratings:\\n\", bottem_5_categories_low)\n"
   ]
  },
  {
   "cell_type": "code",
   "execution_count": 319,
   "id": "124e5336-9904-47f4-8298-4a50c07f4d3c",
   "metadata": {},
   "outputs": [
    {
     "name": "stdout",
     "output_type": "stream",
     "text": [
      "Top 5 category with Highest Ratings:\n",
      "                    category  rating\n",
      "0                 Baby Care     4.2\n",
      "3                 Beverages     4.2\n",
      "2          Beauty & Hygiene     4.1\n",
      "4      Cleaning & Household     4.1\n",
      "6  Foodgrains, Oil & Masala     4.1\n",
      "\n",
      "Top 5 category with Lowest Ratings:\n",
      "                    category  rating\n",
      "9    Kitchen, Garden & Pets     3.9\n",
      "1     Bakery, Cakes & Dairy     4.0\n",
      "2          Beauty & Hygiene     4.1\n",
      "4      Cleaning & Household     4.1\n",
      "6  Foodgrains, Oil & Masala     4.1\n"
     ]
    }
   ],
   "source": [
    "\n",
    "brand_avg_rating = df.groupby('category')['rating'].median().reset_index()\n",
    "\n",
    "top_5_brands_high = brand_avg_rating.nlargest(5, 'rating')\n",
    "top_5_brands_low = brand_avg_rating.nsmallest(5, 'rating')\n",
    "\n",
    "\n",
    "print(\"Top 5 category with Highest Ratings:\\n\", top_5_brands_high)\n",
    "print(\"\\nTop 5 category with Lowest Ratings:\\n\", top_5_brands_low)\n"
   ]
  },
  {
   "cell_type": "code",
   "execution_count": 321,
   "id": "e010350d-56bb-4535-932b-0ffa91c8c4c5",
   "metadata": {},
   "outputs": [
    {
     "data": {
      "text/plain": [
       "category\n",
       "Beauty & Hygiene            7867\n",
       "Gourmet & World Food        4690\n",
       "Kitchen, Garden & Pets      3580\n",
       "Snacks & Branded Foods      2814\n",
       "Foodgrains, Oil & Masala    2676\n",
       "Cleaning & Household        2675\n",
       "Beverages                    885\n",
       "Bakery, Cakes & Dairy        851\n",
       "Baby Care                    610\n",
       "Fruits & Vegetables          557\n",
       "Eggs, Meat & Fish            350\n",
       "Name: count, dtype: int64"
      ]
     },
     "execution_count": 321,
     "metadata": {},
     "output_type": "execute_result"
    }
   ],
   "source": [
    "df['category'].value_counts()"
   ]
  },
  {
   "cell_type": "code",
   "execution_count": 323,
   "id": "b4068559-0e0d-4b9f-894d-3b3c49fc4026",
   "metadata": {},
   "outputs": [],
   "source": [
    "data=df[df['category']=='Beauty & Hygiene']"
   ]
  },
  {
   "cell_type": "code",
   "execution_count": 325,
   "id": "69ce827f-ce06-4f9f-80e9-d085147b8e69",
   "metadata": {},
   "outputs": [
    {
     "data": {
      "text/plain": [
       "brand\n",
       "INATUR          146\n",
       "Nike            124\n",
       "BIOTIQUE        115\n",
       "Aroma Magic     109\n",
       "Himalaya        107\n",
       "               ... \n",
       "Clear             1\n",
       "Aeres             1\n",
       "Everteen          1\n",
       "MG Polyplast      1\n",
       "Muscleblaze       1\n",
       "Name: count, Length: 644, dtype: int64"
      ]
     },
     "execution_count": 325,
     "metadata": {},
     "output_type": "execute_result"
    }
   ],
   "source": [
    "data['brand'].value_counts()"
   ]
  },
  {
   "cell_type": "code",
   "execution_count": 327,
   "id": "6736976a-9042-4a19-9bff-dcdd086f29f6",
   "metadata": {},
   "outputs": [
    {
     "data": {
      "text/plain": [
       "<Axes: ylabel='count'>"
      ]
     },
     "execution_count": 327,
     "metadata": {},
     "output_type": "execute_result"
    },
    {
     "data": {
      "image/png": "[encoded data removed]",
      "text/plain": [
       "<Figure size 640x480 with 1 Axes>"
      ]
     },
     "metadata": {},
     "output_type": "display_data"
    }
   ],
   "source": [
    "df['category'].value_counts()[0:5:].plot(kind='pie',autopct=\"%0.1f\")"
   ]
  },
  {
   "cell_type": "code",
   "execution_count": 329,
   "id": "303bd935-038b-41b4-bbcf-ebc616a371fd",
   "metadata": {},
   "outputs": [
    {
     "data": {
      "text/plain": [
       "category\n",
       "False    19688\n",
       "True      7867\n",
       "Name: count, dtype: int64"
      ]
     },
     "execution_count": 329,
     "metadata": {},
     "output_type": "execute_result"
    }
   ],
   "source": [
    "brand=(df['category']=='Beauty & Hygiene')\n",
    "brand.value_counts()"
   ]
  },
  {
   "cell_type": "code",
   "execution_count": 331,
   "id": "6a651f17-ab65-4bba-ae06-f4d2c72415bd",
   "metadata": {},
   "outputs": [
    {
     "data": {
      "text/plain": [
       "brand\n",
       "Fresho              638\n",
       "bb Royal            539\n",
       "BB Home             428\n",
       "DP                  250\n",
       "Fresho Signature    171\n",
       "                   ... \n",
       "Wellastrate           1\n",
       "Clean & Fresh         1\n",
       "Lal                   1\n",
       "Glint                 1\n",
       "Baron De Bercy        1\n",
       "Name: count, Length: 2313, dtype: int64"
      ]
     },
     "execution_count": 331,
     "metadata": {},
     "output_type": "execute_result"
    }
   ],
   "source": [
    "df['brand'].value_counts()"
   ]
  },
  {
   "cell_type": "code",
   "execution_count": 333,
   "id": "caee4381-3650-4a7e-8793-8b53c7a1f965",
   "metadata": {},
   "outputs": [],
   "source": [
    "data =df[df['brand'] == \"Fresho\"]"
   ]
  },
  {
   "cell_type": "code",
   "execution_count": 335,
   "id": "5989f956-1188-4c95-8d6c-09fa9cae5b45",
   "metadata": {},
   "outputs": [
    {
     "data": {
      "text/plain": [
       "sub_category\n",
       "Fresh Vegetables               168\n",
       "Fresh Fruits                   124\n",
       "Cuts & Sprouts                  89\n",
       "Organic Fruits & Vegetables     68\n",
       "Exotic Fruits & Veggies         65\n",
       "Sausages, Bacon & Salami        28\n",
       "Fish & Seafood                  26\n",
       "Herbs & Seasonings              24\n",
       "Breads & Buns                   19\n",
       "Eggs                             9\n",
       "Mutton & Lamb                    8\n",
       "Flower Bouquets, Bunches         7\n",
       "Frozen Veggies & Snacks          2\n",
       "Edible Oils & Ghee               1\n",
       "Name: count, dtype: int64"
      ]
     },
     "execution_count": 335,
     "metadata": {},
     "output_type": "execute_result"
    }
   ],
   "source": [
    "data['sub_category'].value_counts()"
   ]
  },
  {
   "cell_type": "code",
   "execution_count": 337,
   "id": "052b6e28-e51d-4c04-af52-8cfde2afd826",
   "metadata": {},
   "outputs": [
    {
     "name": "stdout",
     "output_type": "stream",
     "text": [
      "Lowest Ratings of Top 5 Categories:\n",
      "                    category  rating\n",
      "0                 Baby Care     1.0\n",
      "1          Beauty & Hygiene     1.0\n",
      "2                 Beverages     1.0\n",
      "3      Cleaning & Household     1.0\n",
      "4  Foodgrains, Oil & Masala     1.0\n"
     ]
    }
   ],
   "source": [
    "\n",
    "\n",
    "\n",
    "category_avg_rating = df.groupby('category')['rating'].median().reset_index()\n",
    "\n",
    "top_5_categories = category_avg_rating.nlargest(5, 'rating')\n",
    "\n",
    "\n",
    "lowest_ratings_top_5 = df[df['category'].isin(top_5_categories['category'])].groupby('category')['rating'].min().reset_index()\n",
    "\n",
    "\n",
    "print(\"Lowest Ratings of Top 5 Categories:\\n\", lowest_ratings_top_5)\n"
   ]
  },
  {
   "cell_type": "code",
   "execution_count": 339,
   "id": "acff08a3-9be6-4d35-bcb2-bed1da3c7f44",
   "metadata": {},
   "outputs": [
    {
     "name": "stdout",
     "output_type": "stream",
     "text": [
      "Highest Ratings of Top 5 Categories:\n",
      "                    category  rating\n",
      "0                 Baby Care     5.0\n",
      "1          Beauty & Hygiene     5.0\n",
      "2                 Beverages     5.0\n",
      "3      Cleaning & Household     5.0\n",
      "4  Foodgrains, Oil & Masala     5.0\n"
     ]
    }
   ],
   "source": [
    "\n",
    "\n",
    "category_avg_rating = df.groupby('category')['rating'].median().reset_index()\n",
    "\n",
    "\n",
    "top_5_categories = category_avg_rating.nlargest(5, 'rating')\n",
    "\n",
    "\n",
    "highest_ratings_top_5 = df[df['category'].isin(top_5_categories['category'])].groupby('category')['rating'].max().reset_index()\n",
    "\n",
    "print(\"Highest Ratings of Top 5 Categories:\\n\", highest_ratings_top_5)\n"
   ]
  },
  {
   "cell_type": "code",
   "execution_count": 341,
   "id": "9cae5137-8cd7-4a64-967d-446a1af20b50",
   "metadata": {},
   "outputs": [
    {
     "name": "stdout",
     "output_type": "stream",
     "text": [
      "Highest Ratings of Top 5 brand:\n",
      "     brand  rating\n",
      "0     1mg     5.0\n",
      "1   AMADO     5.0\n",
      "2  Adidas     5.0\n",
      "3  Amulya     5.0\n",
      "4  Anmara     5.0\n"
     ]
    }
   ],
   "source": [
    "category_avg_rating = df.groupby('brand')['rating'].median().reset_index()\n",
    "\n",
    "\n",
    "top_5_categories = category_avg_rating.nlargest(5, 'rating')\n",
    "\n",
    "\n",
    "highest_ratings_top_5 = df[df['brand'].isin(top_5_categories['brand'])].groupby('brand')['rating'].max().reset_index()\n",
    "\n",
    "\n",
    "print(\"Highest Ratings of Top 5 brand:\\n\", highest_ratings_top_5)\n"
   ]
  },
  {
   "cell_type": "code",
   "execution_count": null,
   "id": "8d9dc321-a9d3-4a45-8ac6-3e84c84cd652",
   "metadata": {},
   "outputs": [],
   "source": [
    "\n",
    "\n",
    "# RECOMMENDATION SYSTEM\n",
    "\n"
   ]
  },
  {
   "cell_type": "code",
   "execution_count": 503,
   "id": "a4f8b40f-6ff1-44bf-a572-38106b336e1b",
   "metadata": {},
   "outputs": [
    {
     "name": "stdin",
     "output_type": "stream",
     "text": [
      "Enter your product type:  Chocolates\n",
      "Enter the maximum price:  300\n",
      "Enter the maximum rating:  5\n"
     ]
    },
    {
     "name": "stdout",
     "output_type": "stream",
     "text": [
      "                                            product  sale_price    brand  \\\n",
      "0  Choco Deck - French Dessert Inspired Layered Bar       144.0  Fabelle   \n",
      "1                                   French Mendians       125.0    Micks   \n",
      "2          Bhut Jolpkia Chilli - 70% Dark Chocolate       200.0   Soklet   \n",
      "\n",
      "   rating  \n",
      "0     5.0  \n",
      "1     5.0  \n",
      "2     5.0  \n"
     ]
    }
   ],
   "source": [
    "\n",
    "\n",
    "def filter_products(df):\n",
    "\n",
    "    product_type = input(\"Enter your product type: \")\n",
    "    max_price = float(input(\"Enter the maximum price: \"))\n",
    "    max_rating = float(input(\"Enter the maximum rating: \"))\n",
    "\n",
    "    filtered_df = df[\n",
    "        (df['type'] == product_type) & \n",
    "        (df['sale_price'] <= max_price) & \n",
    "        (df['rating'] <= max_rating)\n",
    "    ]\n",
    "\n",
    "    top_products = filtered_df.nlargest(3, 'rating').reset_index(drop=True)\n",
    "    return top_products[['product', 'sale_price', 'brand', 'rating']]\n",
    "    \n",
    "top_products = filter_products(df)\n",
    "print(top_products)"
   ]
  },
  {
   "cell_type": "code",
   "execution_count": null,
   "id": "3e58d2f4-7dc5-4c62-a597-3e212e729d25",
   "metadata": {},
   "outputs": [],
   "source": [
    "get_top_3_products_by_type('Hair Oil & Serum')"
   ]
  },
  {
   "cell_type": "code",
   "execution_count": null,
   "id": "aed30161-8e7f-4bd7-bc48-0b72a5336569",
   "metadata": {},
   "outputs": [],
   "source": [
    "df[df['brand']==\"Oxy\"]"
   ]
  },
  {
   "cell_type": "code",
   "execution_count": null,
   "id": "c57e4696-ed93-457b-8589-ec2ec9fc264a",
   "metadata": {},
   "outputs": [],
   "source": [
    "get_top_3_products_by_type('Hair Oil & Serum')"
   ]
  },
  {
   "cell_type": "code",
   "execution_count": null,
   "id": "3af28084-d3f4-4fa5-ab76-67762048a8f4",
   "metadata": {},
   "outputs": [],
   "source": [
    "get_top_3_products_by_type('Chocolates')"
   ]
  },
  {
   "cell_type": "code",
   "execution_count": null,
   "id": "4f57e3a3-b005-4672-9e6b-7729b6b1e166",
   "metadata": {},
   "outputs": [],
   "source": [
    "get_top_3_products_by_type('Chocolates')"
   ]
  },
  {
   "cell_type": "code",
   "execution_count": 345,
   "id": "ec50dd87-d07e-48e1-8ae2-f9b5d205f4ab",
   "metadata": {},
   "outputs": [
    {
     "data": {
      "text/html": [
       "<div>\n",
       "<style scoped>\n",
       "    .dataframe tbody tr th:only-of-type {\n",
       "        vertical-align: middle;\n",
       "    }\n",
       "\n",
       "    .dataframe tbody tr th {\n",
       "        vertical-align: top;\n",
       "    }\n",
       "\n",
       "    .dataframe thead th {\n",
       "        text-align: right;\n",
       "    }\n",
       "</style>\n",
       "<table border=\"1\" class=\"dataframe\">\n",
       "  <thead>\n",
       "    <tr style=\"text-align: right;\">\n",
       "      <th></th>\n",
       "      <th>product</th>\n",
       "      <th>category</th>\n",
       "      <th>sub_category</th>\n",
       "      <th>brand</th>\n",
       "      <th>sale_price</th>\n",
       "      <th>market_price</th>\n",
       "      <th>type</th>\n",
       "      <th>rating</th>\n",
       "      <th>description</th>\n",
       "      <th>quantity_sold</th>\n",
       "      <th>Price_Category</th>\n",
       "    </tr>\n",
       "  </thead>\n",
       "  <tbody>\n",
       "    <tr>\n",
       "      <th>0</th>\n",
       "      <td>Garlic Oil - Vegetarian Capsule 500 mg</td>\n",
       "      <td>Beauty &amp; Hygiene</td>\n",
       "      <td>Hair Care</td>\n",
       "      <td>Sri Sri Ayurveda</td>\n",
       "      <td>220.0</td>\n",
       "      <td>220.0</td>\n",
       "      <td>Hair Oil &amp; Serum</td>\n",
       "      <td>4.1</td>\n",
       "      <td>This Product contains Garlic Oil that is known...</td>\n",
       "      <td>70</td>\n",
       "      <td>Median</td>\n",
       "    </tr>\n",
       "    <tr>\n",
       "      <th>1</th>\n",
       "      <td>Water Bottle - Orange</td>\n",
       "      <td>Kitchen, Garden &amp; Pets</td>\n",
       "      <td>Storage &amp; Accessories</td>\n",
       "      <td>Mastercook</td>\n",
       "      <td>180.0</td>\n",
       "      <td>180.0</td>\n",
       "      <td>Water &amp; Fridge Bottles</td>\n",
       "      <td>2.3</td>\n",
       "      <td>Each product is microwave safe (without lid), ...</td>\n",
       "      <td>93</td>\n",
       "      <td>Median</td>\n",
       "    </tr>\n",
       "    <tr>\n",
       "      <th>2</th>\n",
       "      <td>Brass Angle Deep - Plain, No.2</td>\n",
       "      <td>Cleaning &amp; Household</td>\n",
       "      <td>Pooja Needs</td>\n",
       "      <td>Trm</td>\n",
       "      <td>119.0</td>\n",
       "      <td>250.0</td>\n",
       "      <td>Lamp &amp; Lamp Oil</td>\n",
       "      <td>3.4</td>\n",
       "      <td>A perfect gift for all occasions, be it your m...</td>\n",
       "      <td>26</td>\n",
       "      <td>Median</td>\n",
       "    </tr>\n",
       "    <tr>\n",
       "      <th>3</th>\n",
       "      <td>Cereal Flip Lid Container/Storage Jar - Assort...</td>\n",
       "      <td>Cleaning &amp; Household</td>\n",
       "      <td>Bins &amp; Bathroom Ware</td>\n",
       "      <td>Nakoda</td>\n",
       "      <td>149.0</td>\n",
       "      <td>176.0</td>\n",
       "      <td>Laundry, Storage Baskets</td>\n",
       "      <td>3.7</td>\n",
       "      <td>Multipurpose container with an attractive desi...</td>\n",
       "      <td>30</td>\n",
       "      <td>Median</td>\n",
       "    </tr>\n",
       "    <tr>\n",
       "      <th>4</th>\n",
       "      <td>Creme Soft Soap - For Hands &amp; Body</td>\n",
       "      <td>Beauty &amp; Hygiene</td>\n",
       "      <td>Bath &amp; Hand Wash</td>\n",
       "      <td>Nivea</td>\n",
       "      <td>162.0</td>\n",
       "      <td>162.0</td>\n",
       "      <td>Bathing Bars &amp; Soaps</td>\n",
       "      <td>4.4</td>\n",
       "      <td>Nivea Creme Soft Soap gives your skin the best...</td>\n",
       "      <td>4</td>\n",
       "      <td>Median</td>\n",
       "    </tr>\n",
       "  </tbody>\n",
       "</table>\n",
       "</div>"
      ],
      "text/plain": [
       "                                             product                category  \\\n",
       "0             Garlic Oil - Vegetarian Capsule 500 mg        Beauty & Hygiene   \n",
       "1                              Water Bottle - Orange  Kitchen, Garden & Pets   \n",
       "2                     Brass Angle Deep - Plain, No.2    Cleaning & Household   \n",
       "3  Cereal Flip Lid Container/Storage Jar - Assort...    Cleaning & Household   \n",
       "4                 Creme Soft Soap - For Hands & Body        Beauty & Hygiene   \n",
       "\n",
       "            sub_category              brand  sale_price  market_price  \\\n",
       "0              Hair Care  Sri Sri Ayurveda        220.0         220.0   \n",
       "1  Storage & Accessories         Mastercook       180.0         180.0   \n",
       "2            Pooja Needs                Trm       119.0         250.0   \n",
       "3   Bins & Bathroom Ware             Nakoda       149.0         176.0   \n",
       "4       Bath & Hand Wash              Nivea       162.0         162.0   \n",
       "\n",
       "                       type  rating  \\\n",
       "0          Hair Oil & Serum     4.1   \n",
       "1    Water & Fridge Bottles     2.3   \n",
       "2           Lamp & Lamp Oil     3.4   \n",
       "3  Laundry, Storage Baskets     3.7   \n",
       "4      Bathing Bars & Soaps     4.4   \n",
       "\n",
       "                                         description  quantity_sold  \\\n",
       "0  This Product contains Garlic Oil that is known...             70   \n",
       "1  Each product is microwave safe (without lid), ...             93   \n",
       "2  A perfect gift for all occasions, be it your m...             26   \n",
       "3  Multipurpose container with an attractive desi...             30   \n",
       "4  Nivea Creme Soft Soap gives your skin the best...              4   \n",
       "\n",
       "  Price_Category  \n",
       "0         Median  \n",
       "1         Median  \n",
       "2         Median  \n",
       "3         Median  \n",
       "4         Median  "
      ]
     },
     "execution_count": 345,
     "metadata": {},
     "output_type": "execute_result"
    }
   ],
   "source": [
    "df.head()"
   ]
  },
  {
   "cell_type": "code",
   "execution_count": 347,
   "id": "2291f46a-a7d4-41e5-8b41-6e4d3b1889fa",
   "metadata": {},
   "outputs": [
    {
     "data": {
      "text/plain": [
       "product\n",
       "Turmeric Powder/Arisina Pudi                                     26\n",
       "Extra Virgin Olive Oil                                           15\n",
       "Cow Ghee/Tuppa                                                   14\n",
       "Soft Drink                                                       12\n",
       "Colorsilk Hair Colour With Keratin                               12\n",
       "                                                                 ..\n",
       "Pepper & Herb Salami Chicken                                      1\n",
       "Nutmeg Powder                                                     1\n",
       "Disney Mickey Mouse Plastic Kids Sipper Bottle - Coolest Dude     1\n",
       "Chocolates-Roasted Peanut Chocolate                               1\n",
       "Green Tea - Pure Original                                         1\n",
       "Name: count, Length: 23540, dtype: int64"
      ]
     },
     "execution_count": 347,
     "metadata": {},
     "output_type": "execute_result"
    }
   ],
   "source": [
    "df['product'].value_counts()"
   ]
  },
  {
   "cell_type": "code",
   "execution_count": 349,
   "id": "dfd22fa8-a24c-4b25-bcbc-1d86ebc5d274",
   "metadata": {},
   "outputs": [
    {
     "data": {
      "text/plain": [
       "category\n",
       "Beauty & Hygiene            7867\n",
       "Gourmet & World Food        4690\n",
       "Kitchen, Garden & Pets      3580\n",
       "Snacks & Branded Foods      2814\n",
       "Foodgrains, Oil & Masala    2676\n",
       "Cleaning & Household        2675\n",
       "Beverages                    885\n",
       "Bakery, Cakes & Dairy        851\n",
       "Baby Care                    610\n",
       "Fruits & Vegetables          557\n",
       "Eggs, Meat & Fish            350\n",
       "Name: count, dtype: int64"
      ]
     },
     "execution_count": 349,
     "metadata": {},
     "output_type": "execute_result"
    }
   ],
   "source": [
    "df['category'].value_counts()"
   ]
  },
  {
   "cell_type": "code",
   "execution_count": 351,
   "id": "233cefb3-57fa-470d-b640-a67514eea214",
   "metadata": {},
   "outputs": [
    {
     "data": {
      "text/plain": [
       "sub_category\n",
       "Skin Care                   2294\n",
       "Health & Medicine           1133\n",
       "Hair Care                   1028\n",
       "Storage & Accessories       1015\n",
       "Fragrances & Deos           1000\n",
       "                            ... \n",
       "Mutton & Lamb                 20\n",
       "Water                         17\n",
       "Flower Bouquets, Bunches       8\n",
       "Pork & Other Meats             5\n",
       "Marinades                      1\n",
       "Name: count, Length: 90, dtype: int64"
      ]
     },
     "execution_count": 351,
     "metadata": {},
     "output_type": "execute_result"
    }
   ],
   "source": [
    "df['sub_category'].value_counts()"
   ]
  },
  {
   "cell_type": "code",
   "execution_count": 353,
   "id": "96776e11-5898-4e9a-af45-c001d0812148",
   "metadata": {},
   "outputs": [
    {
     "data": {
      "text/plain": [
       "<Axes: ylabel='count'>"
      ]
     },
     "execution_count": 353,
     "metadata": {},
     "output_type": "execute_result"
    },
    {
     "data": {
      "image/png": "[encoded data removed]",
      "text/plain": [
       "<Figure size 640x480 with 1 Axes>"
      ]
     },
     "metadata": {},
     "output_type": "display_data"
    }
   ],
   "source": [
    "df['brand'].value_counts()[0:5:].plot(kind='pie',autopct=\"%0.1f\")"
   ]
  },
  {
   "cell_type": "code",
   "execution_count": 355,
   "id": "3426be67-ca44-4760-9960-160b09a01373",
   "metadata": {},
   "outputs": [
    {
     "data": {
      "text/plain": [
       "brand\n",
       "Fresho              638\n",
       "bb Royal            539\n",
       "BB Home             428\n",
       "DP                  250\n",
       "Fresho Signature    171\n",
       "                   ... \n",
       "Wellastrate           1\n",
       "Clean & Fresh         1\n",
       "Lal                   1\n",
       "Glint                 1\n",
       "Baron De Bercy        1\n",
       "Name: count, Length: 2313, dtype: int64"
      ]
     },
     "execution_count": 355,
     "metadata": {},
     "output_type": "execute_result"
    }
   ],
   "source": [
    "df['brand'].value_counts()"
   ]
  },
  {
   "cell_type": "code",
   "execution_count": 357,
   "id": "7c60e96e-762d-4fe8-80bf-2d2ea6defbca",
   "metadata": {},
   "outputs": [
    {
     "data": {
      "text/plain": [
       "category\n",
       "Beauty & Hygiene            7867\n",
       "Gourmet & World Food        4690\n",
       "Kitchen, Garden & Pets      3580\n",
       "Snacks & Branded Foods      2814\n",
       "Foodgrains, Oil & Masala    2676\n",
       "Cleaning & Household        2675\n",
       "Beverages                    885\n",
       "Bakery, Cakes & Dairy        851\n",
       "Baby Care                    610\n",
       "Fruits & Vegetables          557\n",
       "Eggs, Meat & Fish            350\n",
       "Name: count, dtype: int64"
      ]
     },
     "execution_count": 357,
     "metadata": {},
     "output_type": "execute_result"
    }
   ],
   "source": [
    "df['category'].value_counts()"
   ]
  },
  {
   "cell_type": "code",
   "execution_count": 359,
   "id": "a1f3cb00-6e8f-4b91-91dd-f08cc33ecfe5",
   "metadata": {},
   "outputs": [],
   "source": [
    "data=df[df['category']=='Beauty & Hygiene']"
   ]
  },
  {
   "cell_type": "code",
   "execution_count": 361,
   "id": "4c6be523-3429-4ad0-bb4c-7d576fc38409",
   "metadata": {},
   "outputs": [
    {
     "data": {
      "text/plain": [
       "sub_category\n",
       "Skin Care            2294\n",
       "Health & Medicine    1133\n",
       "Hair Care            1028\n",
       "Name: count, dtype: int64"
      ]
     },
     "execution_count": 361,
     "metadata": {},
     "output_type": "execute_result"
    }
   ],
   "source": [
    "data['sub_category'].value_counts()[0:3:]"
   ]
  },
  {
   "cell_type": "code",
   "execution_count": 363,
   "id": "d61b4585-59c8-496d-8efa-6a1e8576d56b",
   "metadata": {},
   "outputs": [],
   "source": [
    "data1=df[(df['category']=='Beauty & Hygiene') & (data['sub_category']=='Skin Care')]"
   ]
  },
  {
   "cell_type": "code",
   "execution_count": 365,
   "id": "bf410a5b-7f29-48d4-a36f-c01e8d34a6aa",
   "metadata": {},
   "outputs": [
    {
     "data": {
      "text/plain": [
       "brand\n",
       "INATUR             116\n",
       "Aroma Magic         92\n",
       "BIOTIQUE            80\n",
       "Organic Harvest     76\n",
       "Aroma Treasures     65\n",
       "                  ... \n",
       "Wild Ideas           1\n",
       "Natures Organic      1\n",
       "By Nature            1\n",
       "Milani               1\n",
       "LuxaDerme            1\n",
       "Name: count, Length: 209, dtype: int64"
      ]
     },
     "execution_count": 365,
     "metadata": {},
     "output_type": "execute_result"
    }
   ],
   "source": [
    "data1['brand'].value_counts()"
   ]
  },
  {
   "cell_type": "code",
   "execution_count": 367,
   "id": "b81310af-4536-4969-a0c2-7cc4f2368cf2",
   "metadata": {},
   "outputs": [
    {
     "data": {
      "text/plain": [
       "<Axes: ylabel='count'>"
      ]
     },
     "execution_count": 367,
     "metadata": {},
     "output_type": "execute_result"
    },
    {
     "data": {
      "image/png": "[encoded data removed]",
      "text/plain": [
       "<Figure size 640x480 with 1 Axes>"
      ]
     },
     "metadata": {},
     "output_type": "display_data"
    }
   ],
   "source": [
    "df['sub_category'].value_counts()[0:3:].plot(kind='pie',autopct=\"%0.1f\")"
   ]
  },
  {
   "cell_type": "code",
   "execution_count": 369,
   "id": "d8ee3047-3d94-4f5a-81ca-ef7ad16535ba",
   "metadata": {},
   "outputs": [
    {
     "name": "stdout",
     "output_type": "stream",
     "text": [
      "category\n",
      "Baby Care                   534.946180\n",
      "Kitchen, Garden & Pets      507.524615\n",
      "Beauty & Hygiene            418.679197\n",
      "Gourmet & World Food        319.854011\n",
      "Eggs, Meat & Fish           288.897486\n",
      "Beverages                   239.758949\n",
      "Cleaning & Household        226.173118\n",
      "Foodgrains, Oil & Masala    193.167500\n",
      "Bakery, Cakes & Dairy       142.802750\n",
      "Snacks & Branded Foods      129.593134\n",
      "Fruits & Vegetables          50.889336\n",
      "Name: sale_price, dtype: float64\n"
     ]
    }
   ],
   "source": [
    "\n",
    "mean_sale_price_by_category = df.groupby('category')['sale_price'].mean().sort_values(ascending=False)\n",
    "print(mean_sale_price_by_category)\n"
   ]
  },
  {
   "cell_type": "code",
   "execution_count": 371,
   "id": "c45777cd-cf40-4dc4-803f-163018cef47e",
   "metadata": {},
   "outputs": [
    {
     "name": "stdout",
     "output_type": "stream",
     "text": [
      "                           count        mean         std    min      25%  \\\n",
      "category                                                                   \n",
      "Baby Care                  610.0  534.946180  536.025430  15.00  189.750   \n",
      "Bakery, Cakes & Dairy      851.0  142.802750  131.119098   5.00   49.000   \n",
      "Beauty & Hygiene          7867.0  418.679197  590.149182   3.00  136.500   \n",
      "Beverages                  885.0  239.758949  256.940381   9.00   99.000   \n",
      "Cleaning & Household      2675.0  226.173118  251.044437   5.00   80.000   \n",
      "Eggs, Meat & Fish          350.0  288.897486  229.284122  42.50  166.875   \n",
      "Foodgrains, Oil & Masala  2676.0  193.167500  277.545142   9.50   60.000   \n",
      "Fruits & Vegetables        557.0   50.889336   54.261050   2.45   23.000   \n",
      "Gourmet & World Food      4690.0  319.854011  404.909469   5.00  129.000   \n",
      "Kitchen, Garden & Pets    3580.0  507.524615  716.077919  17.00  169.000   \n",
      "Snacks & Branded Foods    2814.0  129.593134  142.283819   5.00   50.000   \n",
      "\n",
      "                              50%     75%       max  \n",
      "category                                             \n",
      "Baby Care                 319.665  699.75   3299.00  \n",
      "Bakery, Cakes & Dairy     109.000  189.00   1108.00  \n",
      "Beauty & Hygiene          245.000  450.00   8184.44  \n",
      "Beverages                 175.000  299.00   3480.00  \n",
      "Cleaning & Household      159.000  285.00   3600.00  \n",
      "Eggs, Meat & Fish         230.000  318.75   2249.10  \n",
      "Foodgrains, Oil & Masala  100.000  210.00   4099.00  \n",
      "Fruits & Vegetables        32.000   55.00    527.00  \n",
      "Gourmet & World Food      239.700  375.00   7299.00  \n",
      "Kitchen, Garden & Pets    299.000  539.00  12500.00  \n",
      "Snacks & Branded Foods     87.120  150.00   1950.00  \n"
     ]
    }
   ],
   "source": [
    "\n",
    "sale_price_stats_by_category = df.groupby('category')['sale_price'].describe()\n",
    "print(sale_price_stats_by_category)\n"
   ]
  },
  {
   "cell_type": "code",
   "execution_count": 373,
   "id": "085b66d4-8dc4-4687-939c-d1422ed1195f",
   "metadata": {},
   "outputs": [
    {
     "data": {
      "image/png": "[encoded data removed]",
      "text/plain": [
       "<Figure size 1000x600 with 1 Axes>"
      ]
     },
     "metadata": {},
     "output_type": "display_data"
    }
   ],
   "source": [
    "\n",
    "\n",
    "plt.figure(figsize=(10, 6))\n",
    "sns.barplot(x='category', y='sale_price', data=df)\n",
    "plt.xticks(rotation=90)\n",
    "plt.title('Sale Price Distribution Across Categories')\n",
    "plt.show()\n"
   ]
  },
  {
   "cell_type": "code",
   "execution_count": 375,
   "id": "5269efe1-f48d-413c-9fb4-c946dfd9d490",
   "metadata": {},
   "outputs": [
    {
     "name": "stdout",
     "output_type": "stream",
     "text": [
      "Top 5 Expensive Categories:\n",
      " category\n",
      "Beauty & Hygiene            3293749.24\n",
      "Kitchen, Garden & Pets      1816938.12\n",
      "Gourmet & World Food        1500115.31\n",
      "Cleaning & Household         605013.09\n",
      "Foodgrains, Oil & Masala     516916.23\n",
      "Name: sale_price, dtype: float64\n",
      "\n",
      "Medium 5 Categories:\n",
      " category\n",
      "Cleaning & Household        605013.09\n",
      "Foodgrains, Oil & Masala    516916.23\n",
      "Snacks & Branded Foods      364675.08\n",
      "Baby Care                   326317.17\n",
      "Beverages                   212186.67\n",
      "Name: sale_price, dtype: float64\n",
      "\n",
      "Cheapest 5 Categories:\n",
      " category\n",
      "Baby Care                326317.17\n",
      "Beverages                212186.67\n",
      "Bakery, Cakes & Dairy    121525.14\n",
      "Eggs, Meat & Fish        101114.12\n",
      "Fruits & Vegetables       28345.36\n",
      "Name: sale_price, dtype: float64\n"
     ]
    }
   ],
   "source": [
    "\n",
    "average_sale_price_by_category = df.groupby('category')['sale_price'].sum().sort_values(ascending=False)\n",
    "\n",
    "\n",
    "top_5_categories = average_sale_price_by_category.head(5)\n",
    "print(\"Top 5 Expensive Categories:\\n\", top_5_categories)\n",
    "\n",
    "medium_5_categories = average_sale_price_by_category.iloc[len(average_sale_price_by_category)//2 - 2 : len(average_sale_price_by_category)//2 + 3]\n",
    "print(\"\\nMedium 5 Categories:\\n\", medium_5_categories)\n",
    "\n",
    "cheap_5_categories = average_sale_price_by_category.tail(5)\n",
    "print(\"\\nCheapest 5 Categories:\\n\", cheap_5_categories)\n"
   ]
  },
  {
   "cell_type": "code",
   "execution_count": 377,
   "id": "71b5148e-e42b-4516-99ed-68254c5d43f6",
   "metadata": {},
   "outputs": [
    {
     "name": "stdout",
     "output_type": "stream",
     "text": [
      "Top 5 Brands in the Most Expensive Categories:\n",
      " brand\n",
      "Prestige    136191.00\n",
      "Dkny        114360.00\n",
      "Hawkins      96857.50\n",
      "BB Home      86029.75\n",
      "Ajmal        76567.44\n",
      "Name: sale_price, dtype: float64\n"
     ]
    }
   ],
   "source": [
    "\n",
    "top_5_expensive_categories = ['Baby Care', 'Kitchen, Garden & Pets', 'Beauty & Hygiene', \n",
    "                               'Gourmet & World Food', 'Eggs, Meat & Fish']\n",
    "\n",
    "filtered_data = df[df['category'].isin(top_5_expensive_categories)]\n",
    "\n",
    "\n",
    "average_sale_price_by_brand = filtered_data.groupby('brand')['sale_price'].sum().sort_values(ascending=False)\n",
    "\n",
    "\n",
    "top_5_brands_in_expensive_categories = average_sale_price_by_brand.head(5)\n",
    "print(\"Top 5 Brands in the Most Expensive Categories:\\n\", top_5_brands_in_expensive_categories)\n"
   ]
  },
  {
   "cell_type": "code",
   "execution_count": 379,
   "id": "97827fc5-0e32-4cf6-8a95-d3bf75c540c7",
   "metadata": {},
   "outputs": [
    {
     "name": "stdout",
     "output_type": "stream",
     "text": [
      "Categories with the Largest Difference Between Average Sale Price and Market Price:\n",
      "                     category  average_sale_price  average_market_price  \\\n",
      "9     Kitchen, Garden & Pets             299.000                410.00   \n",
      "2           Beauty & Hygiene             245.000                280.00   \n",
      "5          Eggs, Meat & Fish             230.000                260.00   \n",
      "0                  Baby Care             319.665                349.00   \n",
      "3                  Beverages             175.000                200.00   \n",
      "4       Cleaning & Household             159.000                180.00   \n",
      "6   Foodgrains, Oil & Masala             100.000                120.00   \n",
      "1      Bakery, Cakes & Dairy             109.000                120.00   \n",
      "8       Gourmet & World Food             239.700                250.00   \n",
      "7        Fruits & Vegetables              32.000                 41.25   \n",
      "10    Snacks & Branded Foods              87.120                 95.00   \n",
      "\n",
      "    price_difference  \n",
      "9            111.000  \n",
      "2             35.000  \n",
      "5             30.000  \n",
      "0             29.335  \n",
      "3             25.000  \n",
      "4             21.000  \n",
      "6             20.000  \n",
      "1             11.000  \n",
      "8             10.300  \n",
      "7              9.250  \n",
      "10             7.880  \n"
     ]
    }
   ],
   "source": [
    "\n",
    "average_prices = df.groupby('category').agg(\n",
    "    average_sale_price=('sale_price', 'median'),\n",
    "    average_market_price=('market_price', 'median')\n",
    ").reset_index()\n",
    "\n",
    "\n",
    "average_prices['price_difference'] = average_prices['average_market_price'] - average_prices['average_sale_price']\n",
    "\n",
    "\n",
    "largest_difference_categories = average_prices.sort_values(by='price_difference', ascending=False)\n",
    "\n",
    "\n",
    "print(\"Categories with the Largest Difference Between Average Sale Price and Market Price:\\n\", largest_difference_categories[['category', 'average_sale_price', 'average_market_price', 'price_difference']])\n"
   ]
  },
  {
   "cell_type": "code",
   "execution_count": 381,
   "id": "254ff785-5365-4725-bc66-9d301e31d447",
   "metadata": {},
   "outputs": [
    {
     "data": {
      "image/png": "[encoded data removed]",
      "text/plain": [
       "<Figure size 1200x800 with 1 Axes>"
      ]
     },
     "metadata": {},
     "output_type": "display_data"
    }
   ],
   "source": [
    "import matplotlib.pyplot as plt\n",
    "import pandas as pd\n",
    "\n",
    "\n",
    "data = {\n",
    "    'category': [\n",
    "        'Kitchen, Garden & Pets', 'Beauty & Hygiene', 'Eggs, Meat & Fish', 'Baby Care', \n",
    "        'Beverages', 'Cleaning & Household', 'Foodgrains, Oil & Masala', \n",
    "        'Bakery, Cakes & Dairy', 'Gourmet & World Food', 'Fruits & Vegetables', \n",
    "        'Snacks & Branded Foods'\n",
    "    ],\n",
    "    'average_sale_price': [299.000, 245.000, 230.000, 319.665, 175.000, 159.000, 100.000, 109.000, 239.700, 32.000, 87.120],\n",
    "    'average_market_price': [410.00, 280.00, 260.00, 349.00, 200.00, 180.00, 120.00, 120.00, 250.00, 41.25, 95.00],\n",
    "    'price_difference': [111.000, 35.000, 30.000, 29.335, 25.000, 21.000, 20.000, 11.000, 10.300, 9.250, 7.880]\n",
    "}\n",
    "\n",
    "\n",
    "df = pd.DataFrame(data)\n",
    "\n",
    "\n",
    "plt.figure(figsize=(12, 8))\n",
    "bars = plt.barh(df['category'], df['price_difference'], color='skyblue')\n",
    "plt.xlabel('Price Difference')\n",
    "plt.ylabel('Category')\n",
    "plt.title('Categories with the Largest Difference Between Average Sale Price and Market Price')\n",
    "\n",
    "\n",
    "for bar in bars:\n",
    "    plt.text(bar.get_width(), bar.get_y() + bar.get_height()/2, f'{bar.get_width():.2f}', \n",
    "             va='center', ha='left', color='blue')\n",
    "\n",
    "plt.gca().invert_yaxis()  \n",
    "plt.show()"
   ]
  },
  {
   "cell_type": "code",
   "execution_count": 417,
   "id": "62c87c71-7664-42a0-8d3b-66b6194d8214",
   "metadata": {},
   "outputs": [
    {
     "data": {
      "text/plain": [
       "<Axes: ylabel='sale_price'>"
      ]
     },
     "execution_count": 417,
     "metadata": {},
     "output_type": "execute_result"
    },
    {
     "data": {
      "image/png": "[encoded data removed]",
      "text/plain": [
       "<Figure size 640x480 with 1 Axes>"
      ]
     },
     "metadata": {},
     "output_type": "display_data"
    }
   ],
   "source": [
    "sns.boxplot(df['sale_price'])"
   ]
  },
  {
   "cell_type": "code",
   "execution_count": 415,
   "id": "d61fe97e-56f6-47d4-85ee-97a3fa54a005",
   "metadata": {},
   "outputs": [
    {
     "data": {
      "text/plain": [
       "2.45"
      ]
     },
     "execution_count": 415,
     "metadata": {},
     "output_type": "execute_result"
    }
   ],
   "source": [
    "df['sale_price'].min()"
   ]
  },
  {
   "cell_type": "code",
   "execution_count": 419,
   "id": "3d20a72b-1afd-4770-9280-8ff6e74fa7af",
   "metadata": {},
   "outputs": [
    {
     "data": {
      "text/plain": [
       "12500.0"
      ]
     },
     "execution_count": 419,
     "metadata": {},
     "output_type": "execute_result"
    }
   ],
   "source": [
    "df['sale_price'].max()"
   ]
  },
  {
   "cell_type": "code",
   "execution_count": 421,
   "id": "c2dc765e-e1fb-4ac0-bde0-0dda3f5ace3a",
   "metadata": {},
   "outputs": [
    {
     "data": {
      "text/plain": [
       "190.0"
      ]
     },
     "execution_count": 421,
     "metadata": {},
     "output_type": "execute_result"
    }
   ],
   "source": [
    "df['sale_price'].median()"
   ]
  },
  {
   "cell_type": "code",
   "execution_count": 423,
   "id": "941dd2b1-3077-48ce-94fb-aa90cce3f725",
   "metadata": {},
   "outputs": [
    {
     "name": "stdout",
     "output_type": "stream",
     "text": [
      "      Price Category  Count\n",
      "0  Medium Sale Price  15671\n",
      "1     Low Sale Price   7753\n",
      "2    High Sale Price   4131\n"
     ]
    }
   ],
   "source": [
    "\n",
    "low_price_threshold = 100\n",
    "high_price_threshold =500\n",
    "\n",
    "df['price_category'] = pd.cut(\n",
    "   df['sale_price'],\n",
    "    bins=[-float('inf'), low_price_threshold, high_price_threshold, float('inf')],\n",
    "    labels=['Low Sale Price', 'Medium Sale Price', 'High Sale Price']\n",
    ")\n",
    "\n",
    "price_category_counts = df['price_category'].value_counts().reset_index()\n",
    "price_category_counts.columns = ['Price Category', 'Count']\n",
    "\n",
    "print(price_category_counts)\n"
   ]
  },
  {
   "cell_type": "code",
   "execution_count": 425,
   "id": "5e6c0f44-6bd9-42cb-a0ad-e0d7d2eab71c",
   "metadata": {},
   "outputs": [
    {
     "data": {
      "image/png": "[encoded data removed]",
      "text/plain": [
       "<Figure size 1000x600 with 1 Axes>"
      ]
     },
     "metadata": {},
     "output_type": "display_data"
    }
   ],
   "source": [
    "plt.figure(figsize=(10, 6))\n",
    "plt.bar(price_category_counts['Price Category'], price_category_counts['Count'], color=['skyblue', 'lightgreen', 'salmon'])\n",
    "plt.xlabel('Price Category')\n",
    "plt.ylabel('Count of Products')\n",
    "plt.title('Product Distribution Across Price Categories')\n",
    "plt.show()"
   ]
  },
  {
   "cell_type": "code",
   "execution_count": 427,
   "id": "9c37a56a-4b4e-4342-bb1e-c40cda966244",
   "metadata": {},
   "outputs": [
    {
     "data": {
      "text/plain": [
       "<Axes: ylabel='rating'>"
      ]
     },
     "execution_count": 427,
     "metadata": {},
     "output_type": "execute_result"
    },
    {
     "data": {
      "image/png": "[encoded data removed]",
      "text/plain": [
       "<Figure size 640x480 with 1 Axes>"
      ]
     },
     "metadata": {},
     "output_type": "display_data"
    }
   ],
   "source": [
    "sns.boxplot(df['rating'])"
   ]
  },
  {
   "cell_type": "code",
   "execution_count": 429,
   "id": "5a41f616-5edc-4723-9579-4587d4fa6be5",
   "metadata": {},
   "outputs": [
    {
     "data": {
      "text/plain": [
       "5.0"
      ]
     },
     "execution_count": 429,
     "metadata": {},
     "output_type": "execute_result"
    }
   ],
   "source": [
    "df['rating'].max()"
   ]
  },
  {
   "cell_type": "code",
   "execution_count": 431,
   "id": "84531787-c6ba-497a-95f6-3da4d9b5272b",
   "metadata": {},
   "outputs": [
    {
     "data": {
      "text/plain": [
       "1.0"
      ]
     },
     "execution_count": 431,
     "metadata": {},
     "output_type": "execute_result"
    }
   ],
   "source": [
    "df['rating'].min()"
   ]
  },
  {
   "cell_type": "code",
   "execution_count": 433,
   "id": "2bc86f99-ee58-40ef-b826-917a5168b6c4",
   "metadata": {},
   "outputs": [
    {
     "data": {
      "text/plain": [
       "(brand\n",
       " Iveo      18\n",
       " 3BO       17\n",
       " Nakoda    15\n",
       " Name: count, dtype: int64,\n",
       " brand\n",
       " bb Royal    160\n",
       " Amul         61\n",
       " Anjali       58\n",
       " Name: count, dtype: int64,\n",
       " brand\n",
       " bb Royal    118\n",
       " BB Home     113\n",
       " Himalaya    108\n",
       " Name: count, dtype: int64)"
      ]
     },
     "execution_count": 433,
     "metadata": {},
     "output_type": "execute_result"
    }
   ],
   "source": [
    "low_rated = df[df['rating'] < 3]\n",
    "mid_rated = df[(df['rating'] >= 3) & (df['rating'] <= 4)]\n",
    "high_rated = df[df['rating'] > 4]\n",
    "\n",
    "top_low_rated_brands = low_rated['brand'].value_counts().nlargest(3)\n",
    "top_mid_rated_brands = mid_rated['brand'].value_counts().nlargest(3)\n",
    "top_high_rated_brands = high_rated['brand'].value_counts().nlargest(3)\n",
    "\n",
    "top_low_rated_brands, top_mid_rated_brands, top_high_rated_brands\n",
    "\n"
   ]
  },
  {
   "cell_type": "code",
   "execution_count": 491,
   "id": "7ae78e35-47aa-4fea-aabd-5609fd80cc5a",
   "metadata": {},
   "outputs": [
    {
     "data": {
      "image/png": "[encoded data removed]",
      "text/plain": [
       "<Figure size 1500x500 with 3 Axes>"
      ]
     },
     "metadata": {},
     "output_type": "display_data"
    }
   ],
   "source": [
    "\n",
    "# Calculate the number of products for each category\n",
    "low_values = df[df['brand'].isin(top_low_rated_brands.index)].groupby('brand').size()\n",
    "mid_values = df[df['brand'].isin(top_mid_rated_brands.index)].groupby('brand').size()\n",
    "high_values = df[df['brand'].isin(top_high_rated_brands.index)].groupby('brand').size()\n",
    "\n",
    "# Create a figure with 3 subplots\n",
    "fig, ax = plt.subplots(1, 3, figsize=(15, 5), sharey=True)\n",
    "\n",
    "# Plot for low-rated brands\n",
    "ax[0].bar(low_values.index, low_values.values, color='red')\n",
    "ax[0].set_title('Low Rated Brands')\n",
    "ax[0].set_xlabel('Brand')\n",
    "ax[0].set_ylabel('Number of Products')\n",
    "\n",
    "# Plot for mid-rated brands\n",
    "ax[1].bar(mid_values.index, mid_values.values, color='orange')\n",
    "ax[1].set_title('Mid Rated Brands')\n",
    "ax[1].set_xlabel('Brand')\n",
    "\n",
    "# Plot for high-rated brands\n",
    "ax[2].bar(high_values.index, high_values.values, color='green')\n",
    "ax[2].set_title('High Rated Brands')\n",
    "ax[2].set_xlabel('Brand')\n",
    "\n",
    "# Adjust layout and show the plot\n",
    "plt.tight_layout()\n",
    "plt.show()\n"
   ]
  },
  {
   "cell_type": "code",
   "execution_count": 443,
   "id": "df5ba5cf-b71f-4ab0-9be7-ed568a3e31f8",
   "metadata": {
    "scrolled": true
   },
   "outputs": [
    {
     "data": {
      "image/png": "[encoded data removed]",
      "text/plain": [
       "<Figure size 1500x800 with 1 Axes>"
      ]
     },
     "metadata": {},
     "output_type": "display_data"
    }
   ],
   "source": [
    "\n",
    "top_5_categories = df['category'].value_counts().head(5).index.tolist()\n",
    "\n",
    "\n",
    "top_2_brands_by_category = {}\n",
    "\n",
    "for category in top_5_categories:\n",
    "    top_brands = df[df['category'] == category]['brand'].value_counts().head(2)\n",
    "    top_2_brands_by_category[category] = top_brands\n",
    "\n",
    "\n",
    "unique_brands = sorted(set(brand for brands in top_2_brands_by_category.values() for brand in brands.index))\n",
    "category_indices = {category: i for i, category in enumerate(top_5_categories)}\n",
    "brand_indices = {brand: i for i, brand in enumerate(unique_brands)}\n",
    "\n",
    "\n",
    "brand_counts_matrix = np.zeros((len(unique_brands), len(top_5_categories)))\n",
    "\n",
    "for category in top_5_categories:\n",
    "    for brand, count in top_2_brands_by_category[category].items():\n",
    "        brand_counts_matrix[brand_indices[brand], category_indices[category]] = count\n",
    "\n",
    "fig, ax = plt.subplots(figsize=(15, 8))\n",
    "\n",
    "num_categories = len(top_5_categories)\n",
    "bar_width = 0.8 / num_categories\n",
    "index = np.arange(len(unique_brands))\n",
    "\n",
    "for i, category in enumerate(top_5_categories):\n",
    "    ax.bar(index + i * bar_width, brand_counts_matrix[:, i], bar_width, label=category)\n",
    "\n",
    "ax.set_xlabel('Brands')\n",
    "ax.set_ylabel('Number of Products')\n",
    "ax.set_title('Top 2 Brands in Top 5 Categories')\n",
    "ax.set_xticks(index + bar_width * (num_categories - 1) / 2)\n",
    "ax.set_xticklabels(unique_brands, rotation=90)\n",
    "ax.legend()\n",
    "\n",
    "plt.tight_layout()\n",
    "plt.show()\n"
   ]
  }
 ],
 "metadata": {
  "kernelspec": {
   "display_name": "Python 3 (ipykernel)",
   "language": "python",
   "name": "python3"
  },
  "language_info": {
   "codemirror_mode": {
    "name": "ipython",
    "version": 3
   },
   "file_extension": ".py",
   "mimetype": "text/x-python",
   "name": "python",
   "nbconvert_exporter": "python",
   "pygments_lexer": "ipython3",
   "version": "3.12.4"
  }
 },
 "nbformat": 4,
 "nbformat_minor": 5
}
